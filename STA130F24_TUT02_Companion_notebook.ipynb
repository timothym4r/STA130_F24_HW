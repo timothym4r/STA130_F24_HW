{
 "cells": [
  {
   "cell_type": "markdown",
   "id": "9047160dfd885818",
   "metadata": {},
   "source": [
    "\n",
    "## ♻️ 📚 Review / Questions [10 minutes]\n",
    "1. Follow up questions and clarifications regarding regarding **notebooks, markdown, ChatBots, or `Python` code** previously introduced in the Sep06 TUT and Sep09 LEC \n",
    "\n",
    "> 1. We're continuing to dive into using **notebooks, markdown**, and `Python` as a tool: building comfort and capability working with **ChatBots** to leverage `Python` code is the objective of the current phase of the course...<br><br>\n",
    ">\n",
    "> 2. *Questions about [HW01](https://github.com/pointOfive/stat130chat130/blob/main/HW/STA130F24_HW01_DueSep12.ipynb) which was due yesterday (Thursday Sep12) should be asked in OH from 4-6PM ET Tuesday, Wednesday, and Thursday (see the [Quercus course homepage](https://q.utoronto.ca/courses/354091) for further details)*<br><br>\n",
    "> \n",
    "> 3. *And same story, and even moreso for questions about [HW02](https://github.com/pointOfive/stat130chat130/blob/main/HW/STA130F24_HW02_DueSep19.ipynb) which was due next Thursday (Sep19) (e.g., regarding the \"pre-lecture\" questions...)*"
   ]
  },
  {
   "cell_type": "code",
   "execution_count": 13,
   "id": "71d1c90b",
   "metadata": {},
   "outputs": [],
   "source": [
    "import pandas as pd\n",
    "url = \"https://raw.githubusercontent.com/rfordatascience/tidytuesday/master/data/2020/2020-05-05/villagers.csv\"\n",
    "df = pd.read_csv(url)"
   ]
  },
  {
   "cell_type": "code",
   "execution_count": 10,
   "id": "38a4ac95",
   "metadata": {},
   "outputs": [
    {
     "data": {
      "text/html": [
       "<div>\n",
       "<style scoped>\n",
       "    .dataframe tbody tr th:only-of-type {\n",
       "        vertical-align: middle;\n",
       "    }\n",
       "\n",
       "    .dataframe tbody tr th {\n",
       "        vertical-align: top;\n",
       "    }\n",
       "\n",
       "    .dataframe thead th {\n",
       "        text-align: right;\n",
       "    }\n",
       "</style>\n",
       "<table border=\"1\" class=\"dataframe\">\n",
       "  <thead>\n",
       "    <tr style=\"text-align: right;\">\n",
       "      <th></th>\n",
       "      <th>row_n</th>\n",
       "      <th>id</th>\n",
       "      <th>name</th>\n",
       "      <th>gender</th>\n",
       "      <th>species</th>\n",
       "      <th>birthday</th>\n",
       "      <th>personality</th>\n",
       "      <th>song</th>\n",
       "      <th>phrase</th>\n",
       "      <th>full_id</th>\n",
       "      <th>url</th>\n",
       "    </tr>\n",
       "  </thead>\n",
       "  <tbody>\n",
       "    <tr>\n",
       "      <th>0</th>\n",
       "      <td>2</td>\n",
       "      <td>admiral</td>\n",
       "      <td>Admiral</td>\n",
       "      <td>male</td>\n",
       "      <td>bird</td>\n",
       "      <td>1-27</td>\n",
       "      <td>cranky</td>\n",
       "      <td>Steep Hill</td>\n",
       "      <td>aye aye</td>\n",
       "      <td>villager-admiral</td>\n",
       "      <td>https://villagerdb.com/images/villagers/thumb/...</td>\n",
       "    </tr>\n",
       "    <tr>\n",
       "      <th>1</th>\n",
       "      <td>3</td>\n",
       "      <td>agent-s</td>\n",
       "      <td>Agent S</td>\n",
       "      <td>female</td>\n",
       "      <td>squirrel</td>\n",
       "      <td>7-2</td>\n",
       "      <td>peppy</td>\n",
       "      <td>DJ K.K.</td>\n",
       "      <td>sidekick</td>\n",
       "      <td>villager-agent-s</td>\n",
       "      <td>https://villagerdb.com/images/villagers/thumb/...</td>\n",
       "    </tr>\n",
       "    <tr>\n",
       "      <th>2</th>\n",
       "      <td>4</td>\n",
       "      <td>agnes</td>\n",
       "      <td>Agnes</td>\n",
       "      <td>female</td>\n",
       "      <td>pig</td>\n",
       "      <td>4-21</td>\n",
       "      <td>uchi</td>\n",
       "      <td>K.K. House</td>\n",
       "      <td>snuffle</td>\n",
       "      <td>villager-agnes</td>\n",
       "      <td>https://villagerdb.com/images/villagers/thumb/...</td>\n",
       "    </tr>\n",
       "    <tr>\n",
       "      <th>3</th>\n",
       "      <td>6</td>\n",
       "      <td>al</td>\n",
       "      <td>Al</td>\n",
       "      <td>male</td>\n",
       "      <td>gorilla</td>\n",
       "      <td>10-18</td>\n",
       "      <td>lazy</td>\n",
       "      <td>Steep Hill</td>\n",
       "      <td>Ayyeeee</td>\n",
       "      <td>villager-al</td>\n",
       "      <td>https://villagerdb.com/images/villagers/thumb/...</td>\n",
       "    </tr>\n",
       "    <tr>\n",
       "      <th>4</th>\n",
       "      <td>7</td>\n",
       "      <td>alfonso</td>\n",
       "      <td>Alfonso</td>\n",
       "      <td>male</td>\n",
       "      <td>alligator</td>\n",
       "      <td>6-9</td>\n",
       "      <td>lazy</td>\n",
       "      <td>Forest Life</td>\n",
       "      <td>it'sa me</td>\n",
       "      <td>villager-alfonso</td>\n",
       "      <td>https://villagerdb.com/images/villagers/thumb/...</td>\n",
       "    </tr>\n",
       "  </tbody>\n",
       "</table>\n",
       "</div>"
      ],
      "text/plain": [
       "   row_n       id     name  gender    species birthday personality  \\\n",
       "0      2  admiral  Admiral    male       bird     1-27      cranky   \n",
       "1      3  agent-s  Agent S  female   squirrel      7-2       peppy   \n",
       "2      4    agnes    Agnes  female        pig     4-21        uchi   \n",
       "3      6       al       Al    male    gorilla    10-18        lazy   \n",
       "4      7  alfonso  Alfonso    male  alligator      6-9        lazy   \n",
       "\n",
       "          song    phrase           full_id  \\\n",
       "0   Steep Hill   aye aye  villager-admiral   \n",
       "1      DJ K.K.  sidekick  villager-agent-s   \n",
       "2   K.K. House   snuffle    villager-agnes   \n",
       "3   Steep Hill   Ayyeeee       villager-al   \n",
       "4  Forest Life  it'sa me  villager-alfonso   \n",
       "\n",
       "                                                 url  \n",
       "0  https://villagerdb.com/images/villagers/thumb/...  \n",
       "1  https://villagerdb.com/images/villagers/thumb/...  \n",
       "2  https://villagerdb.com/images/villagers/thumb/...  \n",
       "3  https://villagerdb.com/images/villagers/thumb/...  \n",
       "4  https://villagerdb.com/images/villagers/thumb/...  "
      ]
     },
     "execution_count": 10,
     "metadata": {},
     "output_type": "execute_result"
    }
   ],
   "source": [
    "df.head()"
   ]
  },
  {
   "cell_type": "code",
   "execution_count": 14,
   "id": "ac163ca2",
   "metadata": {},
   "outputs": [
    {
     "data": {
      "text/html": [
       "<div>\n",
       "<style scoped>\n",
       "    .dataframe tbody tr th:only-of-type {\n",
       "        vertical-align: middle;\n",
       "    }\n",
       "\n",
       "    .dataframe tbody tr th {\n",
       "        vertical-align: top;\n",
       "    }\n",
       "\n",
       "    .dataframe thead th {\n",
       "        text-align: right;\n",
       "    }\n",
       "</style>\n",
       "<table border=\"1\" class=\"dataframe\">\n",
       "  <thead>\n",
       "    <tr style=\"text-align: right;\">\n",
       "      <th></th>\n",
       "      <th>row_n</th>\n",
       "    </tr>\n",
       "  </thead>\n",
       "  <tbody>\n",
       "    <tr>\n",
       "      <th>count</th>\n",
       "      <td>391.000000</td>\n",
       "    </tr>\n",
       "    <tr>\n",
       "      <th>mean</th>\n",
       "      <td>239.902813</td>\n",
       "    </tr>\n",
       "    <tr>\n",
       "      <th>std</th>\n",
       "      <td>140.702672</td>\n",
       "    </tr>\n",
       "    <tr>\n",
       "      <th>min</th>\n",
       "      <td>2.000000</td>\n",
       "    </tr>\n",
       "    <tr>\n",
       "      <th>25%</th>\n",
       "      <td>117.500000</td>\n",
       "    </tr>\n",
       "    <tr>\n",
       "      <th>50%</th>\n",
       "      <td>240.000000</td>\n",
       "    </tr>\n",
       "    <tr>\n",
       "      <th>75%</th>\n",
       "      <td>363.500000</td>\n",
       "    </tr>\n",
       "    <tr>\n",
       "      <th>max</th>\n",
       "      <td>483.000000</td>\n",
       "    </tr>\n",
       "  </tbody>\n",
       "</table>\n",
       "</div>"
      ],
      "text/plain": [
       "            row_n\n",
       "count  391.000000\n",
       "mean   239.902813\n",
       "std    140.702672\n",
       "min      2.000000\n",
       "25%    117.500000\n",
       "50%    240.000000\n",
       "75%    363.500000\n",
       "max    483.000000"
      ]
     },
     "execution_count": 14,
     "metadata": {},
     "output_type": "execute_result"
    }
   ],
   "source": [
    "df.describe()"
   ]
  },
  {
   "cell_type": "code",
   "execution_count": 5,
   "id": "3cdf80b9",
   "metadata": {},
   "outputs": [
    {
     "data": {
      "text/plain": [
       "row_n           0\n",
       "id              1\n",
       "name            0\n",
       "gender          0\n",
       "species         0\n",
       "birthday        0\n",
       "personality     0\n",
       "song           11\n",
       "phrase          0\n",
       "full_id         0\n",
       "url             0\n",
       "dtype: int64"
      ]
     },
     "execution_count": 5,
     "metadata": {},
     "output_type": "execute_result"
    }
   ],
   "source": [
    "df.isna().sum()"
   ]
  },
  {
   "cell_type": "markdown",
   "id": "acff6b5d",
   "metadata": {},
   "source": [
    "#### Use Titanic dataset"
   ]
  },
  {
   "cell_type": "code",
   "execution_count": 16,
   "id": "ddc800cd",
   "metadata": {},
   "outputs": [],
   "source": [
    "url = \"https://raw.githubusercontent.com/mwaskom/seaborn-data/master/titanic.csv\"\n",
    "df = pd.read_csv(url)"
   ]
  },
  {
   "cell_type": "code",
   "execution_count": 17,
   "id": "8747c8b5",
   "metadata": {},
   "outputs": [
    {
     "data": {
      "text/plain": [
       "(891, 15)"
      ]
     },
     "execution_count": 17,
     "metadata": {},
     "output_type": "execute_result"
    }
   ],
   "source": [
    "df.shape"
   ]
  },
  {
   "cell_type": "code",
   "execution_count": 12,
   "id": "9a3a93c1",
   "metadata": {},
   "outputs": [
    {
     "data": {
      "text/html": [
       "<div>\n",
       "<style scoped>\n",
       "    .dataframe tbody tr th:only-of-type {\n",
       "        vertical-align: middle;\n",
       "    }\n",
       "\n",
       "    .dataframe tbody tr th {\n",
       "        vertical-align: top;\n",
       "    }\n",
       "\n",
       "    .dataframe thead th {\n",
       "        text-align: right;\n",
       "    }\n",
       "</style>\n",
       "<table border=\"1\" class=\"dataframe\">\n",
       "  <thead>\n",
       "    <tr style=\"text-align: right;\">\n",
       "      <th></th>\n",
       "      <th>survived</th>\n",
       "      <th>pclass</th>\n",
       "      <th>age</th>\n",
       "      <th>sibsp</th>\n",
       "      <th>parch</th>\n",
       "      <th>fare</th>\n",
       "    </tr>\n",
       "  </thead>\n",
       "  <tbody>\n",
       "    <tr>\n",
       "      <th>count</th>\n",
       "      <td>891.000000</td>\n",
       "      <td>891.000000</td>\n",
       "      <td>714.000000</td>\n",
       "      <td>891.000000</td>\n",
       "      <td>891.000000</td>\n",
       "      <td>891.000000</td>\n",
       "    </tr>\n",
       "    <tr>\n",
       "      <th>mean</th>\n",
       "      <td>0.383838</td>\n",
       "      <td>2.308642</td>\n",
       "      <td>29.699118</td>\n",
       "      <td>0.523008</td>\n",
       "      <td>0.381594</td>\n",
       "      <td>32.204208</td>\n",
       "    </tr>\n",
       "    <tr>\n",
       "      <th>std</th>\n",
       "      <td>0.486592</td>\n",
       "      <td>0.836071</td>\n",
       "      <td>14.526497</td>\n",
       "      <td>1.102743</td>\n",
       "      <td>0.806057</td>\n",
       "      <td>49.693429</td>\n",
       "    </tr>\n",
       "    <tr>\n",
       "      <th>min</th>\n",
       "      <td>0.000000</td>\n",
       "      <td>1.000000</td>\n",
       "      <td>0.420000</td>\n",
       "      <td>0.000000</td>\n",
       "      <td>0.000000</td>\n",
       "      <td>0.000000</td>\n",
       "    </tr>\n",
       "    <tr>\n",
       "      <th>25%</th>\n",
       "      <td>0.000000</td>\n",
       "      <td>2.000000</td>\n",
       "      <td>20.125000</td>\n",
       "      <td>0.000000</td>\n",
       "      <td>0.000000</td>\n",
       "      <td>7.910400</td>\n",
       "    </tr>\n",
       "    <tr>\n",
       "      <th>50%</th>\n",
       "      <td>0.000000</td>\n",
       "      <td>3.000000</td>\n",
       "      <td>28.000000</td>\n",
       "      <td>0.000000</td>\n",
       "      <td>0.000000</td>\n",
       "      <td>14.454200</td>\n",
       "    </tr>\n",
       "    <tr>\n",
       "      <th>75%</th>\n",
       "      <td>1.000000</td>\n",
       "      <td>3.000000</td>\n",
       "      <td>38.000000</td>\n",
       "      <td>1.000000</td>\n",
       "      <td>0.000000</td>\n",
       "      <td>31.000000</td>\n",
       "    </tr>\n",
       "    <tr>\n",
       "      <th>max</th>\n",
       "      <td>1.000000</td>\n",
       "      <td>3.000000</td>\n",
       "      <td>80.000000</td>\n",
       "      <td>8.000000</td>\n",
       "      <td>6.000000</td>\n",
       "      <td>512.329200</td>\n",
       "    </tr>\n",
       "  </tbody>\n",
       "</table>\n",
       "</div>"
      ],
      "text/plain": [
       "         survived      pclass         age       sibsp       parch        fare\n",
       "count  891.000000  891.000000  714.000000  891.000000  891.000000  891.000000\n",
       "mean     0.383838    2.308642   29.699118    0.523008    0.381594   32.204208\n",
       "std      0.486592    0.836071   14.526497    1.102743    0.806057   49.693429\n",
       "min      0.000000    1.000000    0.420000    0.000000    0.000000    0.000000\n",
       "25%      0.000000    2.000000   20.125000    0.000000    0.000000    7.910400\n",
       "50%      0.000000    3.000000   28.000000    0.000000    0.000000   14.454200\n",
       "75%      1.000000    3.000000   38.000000    1.000000    0.000000   31.000000\n",
       "max      1.000000    3.000000   80.000000    8.000000    6.000000  512.329200"
      ]
     },
     "execution_count": 12,
     "metadata": {},
     "output_type": "execute_result"
    }
   ],
   "source": [
    "df.describe()"
   ]
  },
  {
   "cell_type": "code",
   "execution_count": 18,
   "id": "04f7f8e3",
   "metadata": {},
   "outputs": [
    {
     "data": {
      "text/plain": [
       "survived         0\n",
       "pclass           0\n",
       "sex              0\n",
       "age            177\n",
       "sibsp            0\n",
       "parch            0\n",
       "fare             0\n",
       "embarked         2\n",
       "class            0\n",
       "who              0\n",
       "adult_male       0\n",
       "deck           688\n",
       "embark_town      2\n",
       "alive            0\n",
       "alone            0\n",
       "dtype: int64"
      ]
     },
     "execution_count": 18,
     "metadata": {},
     "output_type": "execute_result"
    }
   ],
   "source": [
    "df.isna().sum()"
   ]
  },
  {
   "cell_type": "markdown",
   "id": "7b6f2d524b9e6c7e",
   "metadata": {},
   "source": [
    "## 🚧 🏗️ Demo (using Jupyter Notebook and ChatBots) [50 minutes]\n",
    "\n",
    "\n",
    "#### 1. **[35 of the 50 minutes]** Demonstrate (using a ChatBot to show and explain?) some traditional `python` coding structures\n",
    "\n",
    "1. `tuple()`, `list()`, vs `dict()  # immutable and mutable \"lists\" vs key-value pairs`<br><br>\n",
    "    \n",
    "2. some `NumPy` functions:<br><br>\n",
    "    \n",
    "    1. `import numpy as np`\n",
    "    2. `np.array([1,2,3]) # a faster \"list\"`\n",
    "    3. `np.random.choice([1,2,3])`<br><br>\n",
    "        \n",
    "3. `for i in range(n):`, `for x in a_list:`, `for i,x in enumerate(a_list):`, and `print()`<br><br>\n",
    "    \n",
    "    1. `variable` as the last line of a \"code cell\" in a notebook \"prints\" the value\n",
    "    2. but `print()` is needed inside `for` loop if you want to output something<br><br>\n",
    "        \n",
    "4. `if`/`else` conditional statements<br><br> \n",
    "\n",
    "    1. perhaps with `x in b_list`<br>or `i % 2 == 0` to treat evens/odds differently  (sort of like the infamous \"FizzBuzz\" problem that some people [can't complete](https://www.quora.com/On-average-what-is-the-proportion-of-applicants-that-cannot-pass-a-simple-FizzBuzz-test-based-on-your-personal-experience-or-on-facts) as part of a coding interview challenge)\n",
    "    2. note the \"similarity\" to the `try-except` block structure when that's encountered in the code below since it's used there (despite being a \"more advanced\" \n",
    "        \n",
    "#### 2. **[5 of the 50 minutes]** Reintroduce the [Monty Hall problem](https://github.com/pointOfive/stat130chat130/blob/main/CHATLOG/wk2/GPT/SLS/00001_gpt3p5_MonteHall_ProblemExplanation_v1.md) and see which of the coding structures above you recognize (or do not see) in the Monty Hall simulation code below\n",
    "\n",
    "#### 3. **[10 of the 50 minutes]** Use any remaining time to start a demonstration of using a ChatBot to (a) understand what the code below is doing and (b) suggest an improved streamlined version of the `for` loop simulation code that might be easier to explain and understand\n",
    "    \n",
    "> ChatGPT version 3.5 [was very effective](https://github.com/pointOfive/stat130chat130/blob/main/CHATLOG/wk2/GPT/SLS/00003_gpt3p5_MonteHall_CodeDiscussion_v1.md) for (b), while Copilot was shockingly bad on a [first try](../CHATLOG/wk2/COP/SLS/00001_creative_MonteHall_CodeDiscussion_v1.md) but was able to do better [with some helpful guidance](https://github.com/pointOfive/stat130chat130/blob/main/CHATLOG/wk2/COP/SLS/00002_concise_MonteHall_CodeDiscussion_v2.md)."
   ]
  },
  {
   "cell_type": "code",
   "execution_count": 36,
   "id": "fbe1052c",
   "metadata": {},
   "outputs": [
    {
     "data": {
      "text/plain": [
       "1"
      ]
     },
     "execution_count": 36,
     "metadata": {},
     "output_type": "execute_result"
    }
   ],
   "source": [
    "import numpy as np\n",
    "np.array([1,2,3]) # a faster \"list\"\n",
    "np.random.choice([1,2,3])\n",
    "\n"
   ]
  },
  {
   "cell_type": "code",
   "execution_count": 65,
   "id": "521ea70b",
   "metadata": {},
   "outputs": [
    {
     "data": {
      "text/plain": [
       "array([1, 2, 3, 4])"
      ]
     },
     "execution_count": 65,
     "metadata": {},
     "output_type": "execute_result"
    }
   ],
   "source": [
    "arr1 = np.array([1, 2, 3, 4])\n",
    "arr1  "
   ]
  },
  {
   "cell_type": "code",
   "execution_count": 38,
   "id": "4e5e78bc",
   "metadata": {},
   "outputs": [
    {
     "name": "stdout",
     "output_type": "stream",
     "text": [
      "Time taken using NumPy arrays: 0.0025947093963623047 seconds\n"
     ]
    }
   ],
   "source": [
    "import time\n",
    "\n",
    "# Creating two large NumPy arrays\n",
    "arr1 = np.arange(1000000)\n",
    "arr2 = np.arange(1000000)\n",
    "\n",
    "# Start time for NumPy arrays\n",
    "start_time = time.time()\n",
    "\n",
    "# Adding the arrays element-wise\n",
    "result_array = arr1 + arr2\n",
    "\n",
    "# End time for NumPy arrays\n",
    "print(\"Time taken using NumPy arrays:\", time.time() - start_time, \"seconds\")"
   ]
  },
  {
   "cell_type": "code",
   "execution_count": 39,
   "id": "a795a853",
   "metadata": {},
   "outputs": [
    {
     "name": "stdout",
     "output_type": "stream",
     "text": [
      "Time taken using Python lists: 0.049353837966918945 seconds\n"
     ]
    }
   ],
   "source": [
    "# Creating two large lists\n",
    "list1 = range(1000000)\n",
    "list2 = range(1000000)\n",
    "\n",
    "# Start time for Python lists\n",
    "start_time = time.time()\n",
    "\n",
    "# Adding the lists element-wise\n",
    "result_list = [(x + y) for x, y in zip(list1, list2)]\n",
    "\n",
    "# End time for Python lists\n",
    "print(\"Time taken using Python lists:\", time.time() - start_time, \"seconds\")"
   ]
  },
  {
   "cell_type": "code",
   "execution_count": 57,
   "id": "ff6971d3",
   "metadata": {},
   "outputs": [
    {
     "name": "stdout",
     "output_type": "stream",
     "text": [
      "2\n"
     ]
    }
   ],
   "source": [
    "random_value = np.random.choice([1,2,3,4,5])\n",
    "print(random_value)"
   ]
  },
  {
   "cell_type": "code",
   "execution_count": 70,
   "id": "d4f23272",
   "metadata": {},
   "outputs": [],
   "source": [
    "i = 80"
   ]
  },
  {
   "cell_type": "code",
   "execution_count": 71,
   "id": "15093ab6",
   "metadata": {},
   "outputs": [
    {
     "name": "stdout",
     "output_type": "stream",
     "text": [
      "You passed the course\n"
     ]
    }
   ],
   "source": [
    "if i > 70:\n",
    "    print(\"You passed the course\")\n",
    "else:\n",
    "    print(\"You failed :(\")"
   ]
  },
  {
   "cell_type": "code",
   "execution_count": 72,
   "id": "09e81502",
   "metadata": {},
   "outputs": [
    {
     "name": "stdout",
     "output_type": "stream",
     "text": [
      "It's even\n",
      "It's odd\n",
      "It's even\n",
      "It's odd\n",
      "It's even\n",
      "It's odd\n",
      "It's even\n",
      "It's odd\n",
      "It's even\n",
      "It's odd\n",
      "It's even\n",
      "It's odd\n",
      "It's even\n",
      "It's odd\n",
      "It's even\n",
      "It's odd\n",
      "It's even\n",
      "It's odd\n",
      "It's even\n",
      "It's odd\n",
      "It's even\n",
      "It's odd\n",
      "It's even\n",
      "It's odd\n",
      "It's even\n",
      "It's odd\n",
      "It's even\n",
      "It's odd\n",
      "It's even\n",
      "It's odd\n",
      "It's even\n",
      "It's odd\n",
      "It's even\n",
      "It's odd\n",
      "It's even\n",
      "It's odd\n",
      "It's even\n",
      "It's odd\n",
      "It's even\n",
      "It's odd\n",
      "It's even\n",
      "It's odd\n",
      "It's even\n",
      "It's odd\n",
      "It's even\n",
      "It's odd\n",
      "It's even\n",
      "It's odd\n",
      "It's even\n",
      "It's odd\n",
      "It's even\n",
      "It's odd\n",
      "It's even\n",
      "It's odd\n",
      "It's even\n",
      "It's odd\n",
      "It's even\n",
      "It's odd\n",
      "It's even\n",
      "It's odd\n",
      "It's even\n",
      "It's odd\n",
      "It's even\n",
      "It's odd\n",
      "It's even\n",
      "It's odd\n",
      "It's even\n",
      "It's odd\n",
      "It's even\n",
      "It's odd\n",
      "It's even\n",
      "It's odd\n",
      "It's even\n",
      "It's odd\n",
      "It's even\n",
      "It's odd\n",
      "It's even\n",
      "It's odd\n",
      "It's even\n",
      "It's odd\n",
      "It's even\n",
      "It's odd\n",
      "It's even\n",
      "It's odd\n",
      "It's even\n",
      "It's odd\n",
      "It's even\n",
      "It's odd\n",
      "It's even\n",
      "It's odd\n",
      "It's even\n",
      "It's odd\n",
      "It's even\n",
      "It's odd\n",
      "It's even\n",
      "It's odd\n",
      "It's even\n",
      "It's odd\n",
      "It's even\n",
      "It's odd\n",
      "It's even\n",
      "It's odd\n",
      "It's even\n",
      "It's odd\n",
      "It's even\n",
      "It's odd\n",
      "It's even\n",
      "It's odd\n",
      "It's even\n",
      "It's odd\n",
      "It's even\n",
      "It's odd\n",
      "It's even\n",
      "It's odd\n",
      "It's even\n",
      "It's odd\n",
      "It's even\n",
      "It's odd\n",
      "It's even\n",
      "It's odd\n",
      "It's even\n",
      "It's odd\n",
      "It's even\n",
      "It's odd\n",
      "It's even\n",
      "It's odd\n",
      "It's even\n",
      "It's odd\n",
      "It's even\n",
      "It's odd\n",
      "It's even\n",
      "It's odd\n",
      "It's even\n",
      "It's odd\n",
      "It's even\n",
      "It's odd\n",
      "It's even\n",
      "It's odd\n",
      "It's even\n",
      "It's odd\n",
      "It's even\n",
      "It's odd\n",
      "It's even\n",
      "It's odd\n",
      "It's even\n",
      "It's odd\n",
      "It's even\n",
      "It's odd\n",
      "It's even\n",
      "It's odd\n",
      "It's even\n",
      "It's odd\n",
      "It's even\n",
      "It's odd\n",
      "It's even\n",
      "It's odd\n",
      "It's even\n",
      "It's odd\n",
      "It's even\n",
      "It's odd\n",
      "It's even\n",
      "It's odd\n",
      "It's even\n",
      "It's odd\n",
      "It's even\n",
      "It's odd\n",
      "It's even\n",
      "It's odd\n",
      "It's even\n",
      "It's odd\n",
      "It's even\n",
      "It's odd\n",
      "It's even\n",
      "It's odd\n",
      "It's even\n",
      "It's odd\n",
      "It's even\n",
      "It's odd\n",
      "It's even\n",
      "It's odd\n",
      "It's even\n",
      "It's odd\n",
      "It's even\n",
      "It's odd\n",
      "It's even\n",
      "It's odd\n",
      "It's even\n",
      "It's odd\n",
      "It's even\n",
      "It's odd\n",
      "It's even\n",
      "It's odd\n",
      "It's even\n",
      "It's odd\n",
      "It's even\n",
      "It's odd\n",
      "It's even\n",
      "It's odd\n",
      "It's even\n",
      "It's odd\n",
      "It's even\n",
      "It's odd\n",
      "It's even\n",
      "It's odd\n",
      "It's even\n",
      "It's odd\n",
      "It's even\n",
      "It's odd\n",
      "It's even\n",
      "It's odd\n",
      "It's even\n",
      "It's odd\n",
      "It's even\n",
      "It's odd\n",
      "It's even\n",
      "It's odd\n",
      "It's even\n",
      "It's odd\n",
      "It's even\n",
      "It's odd\n",
      "It's even\n",
      "It's odd\n",
      "It's even\n",
      "It's odd\n",
      "It's even\n",
      "It's odd\n",
      "It's even\n",
      "It's odd\n",
      "It's even\n",
      "It's odd\n",
      "It's even\n",
      "It's odd\n",
      "It's even\n",
      "It's odd\n",
      "It's even\n",
      "It's odd\n",
      "It's even\n",
      "It's odd\n",
      "It's even\n",
      "It's odd\n",
      "It's even\n",
      "It's odd\n",
      "It's even\n",
      "It's odd\n",
      "It's even\n",
      "It's odd\n",
      "It's even\n",
      "It's odd\n",
      "It's even\n",
      "It's odd\n",
      "It's even\n",
      "It's odd\n",
      "It's even\n",
      "It's odd\n",
      "It's even\n",
      "It's odd\n",
      "It's even\n",
      "It's odd\n",
      "It's even\n",
      "It's odd\n",
      "It's even\n",
      "It's odd\n",
      "It's even\n",
      "It's odd\n",
      "It's even\n",
      "It's odd\n",
      "It's even\n",
      "It's odd\n",
      "It's even\n",
      "It's odd\n",
      "It's even\n",
      "It's odd\n",
      "It's even\n",
      "It's odd\n",
      "It's even\n",
      "It's odd\n",
      "It's even\n",
      "It's odd\n",
      "It's even\n",
      "It's odd\n",
      "It's even\n",
      "It's odd\n",
      "It's even\n",
      "It's odd\n",
      "It's even\n",
      "It's odd\n",
      "It's even\n",
      "It's odd\n",
      "It's even\n",
      "It's odd\n",
      "It's even\n",
      "It's odd\n",
      "It's even\n",
      "It's odd\n",
      "It's even\n",
      "It's odd\n",
      "It's even\n",
      "It's odd\n",
      "It's even\n",
      "It's odd\n",
      "It's even\n",
      "It's odd\n",
      "It's even\n",
      "It's odd\n",
      "It's even\n",
      "It's odd\n",
      "It's even\n",
      "It's odd\n",
      "It's even\n",
      "It's odd\n",
      "It's even\n",
      "It's odd\n",
      "It's even\n",
      "It's odd\n",
      "It's even\n",
      "It's odd\n",
      "It's even\n",
      "It's odd\n",
      "It's even\n",
      "It's odd\n",
      "It's even\n",
      "It's odd\n",
      "It's even\n",
      "It's odd\n",
      "It's even\n",
      "It's odd\n",
      "It's even\n",
      "It's odd\n",
      "It's even\n",
      "It's odd\n",
      "It's even\n",
      "It's odd\n",
      "It's even\n",
      "It's odd\n",
      "It's even\n",
      "It's odd\n",
      "It's even\n",
      "It's odd\n",
      "It's even\n",
      "It's odd\n",
      "It's even\n",
      "It's odd\n",
      "It's even\n",
      "It's odd\n",
      "It's even\n",
      "It's odd\n",
      "It's even\n",
      "It's odd\n",
      "It's even\n",
      "It's odd\n",
      "It's even\n",
      "It's odd\n",
      "It's even\n",
      "It's odd\n",
      "It's even\n",
      "It's odd\n",
      "It's even\n",
      "It's odd\n",
      "It's even\n",
      "It's odd\n",
      "It's even\n",
      "It's odd\n",
      "It's even\n",
      "It's odd\n",
      "It's even\n",
      "It's odd\n",
      "It's even\n",
      "It's odd\n",
      "It's even\n",
      "It's odd\n",
      "It's even\n",
      "It's odd\n",
      "It's even\n",
      "It's odd\n",
      "It's even\n",
      "It's odd\n",
      "It's even\n",
      "It's odd\n",
      "It's even\n",
      "It's odd\n",
      "It's even\n",
      "It's odd\n",
      "It's even\n",
      "It's odd\n",
      "It's even\n",
      "It's odd\n",
      "It's even\n",
      "It's odd\n",
      "It's even\n",
      "It's odd\n",
      "It's even\n",
      "It's odd\n",
      "It's even\n",
      "It's odd\n",
      "It's even\n",
      "It's odd\n",
      "It's even\n",
      "It's odd\n",
      "It's even\n",
      "It's odd\n",
      "It's even\n",
      "It's odd\n",
      "It's even\n",
      "It's odd\n",
      "It's even\n",
      "It's odd\n",
      "It's even\n",
      "It's odd\n",
      "It's even\n",
      "It's odd\n",
      "It's even\n",
      "It's odd\n",
      "It's even\n",
      "It's odd\n",
      "It's even\n",
      "It's odd\n",
      "It's even\n",
      "It's odd\n",
      "It's even\n",
      "It's odd\n",
      "It's even\n",
      "It's odd\n",
      "It's even\n",
      "It's odd\n",
      "It's even\n",
      "It's odd\n",
      "It's even\n",
      "It's odd\n",
      "It's even\n",
      "It's odd\n",
      "It's even\n",
      "It's odd\n",
      "It's even\n",
      "It's odd\n",
      "It's even\n",
      "It's odd\n",
      "It's even\n",
      "It's odd\n",
      "It's even\n",
      "It's odd\n",
      "It's even\n",
      "It's odd\n",
      "It's even\n",
      "It's odd\n",
      "It's even\n",
      "It's odd\n",
      "It's even\n",
      "It's odd\n",
      "It's even\n",
      "It's odd\n",
      "It's even\n",
      "It's odd\n",
      "It's even\n",
      "It's odd\n",
      "It's even\n",
      "It's odd\n",
      "It's even\n",
      "It's odd\n",
      "It's even\n",
      "It's odd\n",
      "It's even\n",
      "It's odd\n",
      "It's even\n",
      "It's odd\n",
      "It's even\n",
      "It's odd\n",
      "It's even\n",
      "It's odd\n",
      "It's even\n",
      "It's odd\n",
      "It's even\n",
      "It's odd\n",
      "It's even\n",
      "It's odd\n",
      "It's even\n",
      "It's odd\n",
      "It's even\n",
      "It's odd\n",
      "It's even\n",
      "It's odd\n",
      "It's even\n",
      "It's odd\n",
      "It's even\n",
      "It's odd\n",
      "It's even\n",
      "It's odd\n",
      "It's even\n",
      "It's odd\n",
      "It's even\n",
      "It's odd\n",
      "It's even\n",
      "It's odd\n",
      "It's even\n",
      "It's odd\n",
      "It's even\n",
      "It's odd\n",
      "It's even\n",
      "It's odd\n",
      "It's even\n",
      "It's odd\n",
      "It's even\n",
      "It's odd\n",
      "It's even\n",
      "It's odd\n",
      "It's even\n",
      "It's odd\n",
      "It's even\n",
      "It's odd\n",
      "It's even\n",
      "It's odd\n",
      "It's even\n",
      "It's odd\n",
      "It's even\n",
      "It's odd\n",
      "It's even\n",
      "It's odd\n",
      "It's even\n",
      "It's odd\n",
      "It's even\n",
      "It's odd\n",
      "It's even\n",
      "It's odd\n",
      "It's even\n",
      "It's odd\n",
      "It's even\n",
      "It's odd\n",
      "It's even\n",
      "It's odd\n",
      "It's even\n",
      "It's odd\n",
      "It's even\n",
      "It's odd\n",
      "It's even\n",
      "It's odd\n",
      "It's even\n",
      "It's odd\n",
      "It's even\n",
      "It's odd\n",
      "It's even\n",
      "It's odd\n",
      "It's even\n",
      "It's odd\n",
      "It's even\n",
      "It's odd\n",
      "It's even\n",
      "It's odd\n",
      "It's even\n",
      "It's odd\n",
      "It's even\n",
      "It's odd\n",
      "It's even\n",
      "It's odd\n",
      "It's even\n",
      "It's odd\n",
      "It's even\n",
      "It's odd\n",
      "It's even\n",
      "It's odd\n",
      "It's even\n",
      "It's odd\n",
      "It's even\n",
      "It's odd\n",
      "It's even\n",
      "It's odd\n",
      "It's even\n",
      "It's odd\n",
      "It's even\n",
      "It's odd\n",
      "It's even\n",
      "It's odd\n",
      "It's even\n",
      "It's odd\n",
      "It's even\n",
      "It's odd\n",
      "It's even\n",
      "It's odd\n",
      "It's even\n",
      "It's odd\n",
      "It's even\n",
      "It's odd\n",
      "It's even\n",
      "It's odd\n",
      "It's even\n",
      "It's odd\n",
      "It's even\n",
      "It's odd\n",
      "It's even\n",
      "It's odd\n",
      "It's even\n",
      "It's odd\n",
      "It's even\n",
      "It's odd\n",
      "It's even\n",
      "It's odd\n",
      "It's even\n",
      "It's odd\n",
      "It's even\n",
      "It's odd\n",
      "It's even\n",
      "It's odd\n",
      "It's even\n",
      "It's odd\n",
      "It's even\n",
      "It's odd\n",
      "It's even\n",
      "It's odd\n",
      "It's even\n",
      "It's odd\n",
      "It's even\n",
      "It's odd\n",
      "It's even\n",
      "It's odd\n",
      "It's even\n",
      "It's odd\n",
      "It's even\n",
      "It's odd\n",
      "It's even\n",
      "It's odd\n",
      "It's even\n",
      "It's odd\n",
      "It's even\n",
      "It's odd\n",
      "It's even\n",
      "It's odd\n",
      "It's even\n",
      "It's odd\n",
      "It's even\n",
      "It's odd\n",
      "It's even\n",
      "It's odd\n",
      "It's even\n",
      "It's odd\n",
      "It's even\n",
      "It's odd\n",
      "It's even\n",
      "It's odd\n",
      "It's even\n",
      "It's odd\n",
      "It's even\n",
      "It's odd\n",
      "It's even\n",
      "It's odd\n",
      "It's even\n",
      "It's odd\n",
      "It's even\n",
      "It's odd\n",
      "It's even\n",
      "It's odd\n",
      "It's even\n",
      "It's odd\n",
      "It's even\n",
      "It's odd\n",
      "It's even\n",
      "It's odd\n",
      "It's even\n",
      "It's odd\n",
      "It's even\n",
      "It's odd\n",
      "It's even\n",
      "It's odd\n",
      "It's even\n",
      "It's odd\n",
      "It's even\n",
      "It's odd\n",
      "It's even\n",
      "It's odd\n",
      "It's even\n",
      "It's odd\n",
      "It's even\n",
      "It's odd\n",
      "It's even\n",
      "It's odd\n",
      "It's even\n",
      "It's odd\n",
      "It's even\n",
      "It's odd\n",
      "It's even\n",
      "It's odd\n",
      "It's even\n",
      "It's odd\n",
      "It's even\n",
      "It's odd\n",
      "It's even\n",
      "It's odd\n",
      "It's even\n",
      "It's odd\n",
      "It's even\n",
      "It's odd\n",
      "It's even\n",
      "It's odd\n",
      "It's even\n",
      "It's odd\n",
      "It's even\n",
      "It's odd\n",
      "It's even\n",
      "It's odd\n",
      "It's even\n",
      "It's odd\n",
      "It's even\n",
      "It's odd\n",
      "It's even\n",
      "It's odd\n",
      "It's even\n",
      "It's odd\n",
      "It's even\n",
      "It's odd\n",
      "It's even\n",
      "It's odd\n",
      "It's even\n",
      "It's odd\n",
      "It's even\n",
      "It's odd\n",
      "It's even\n",
      "It's odd\n",
      "It's even\n",
      "It's odd\n",
      "It's even\n",
      "It's odd\n",
      "It's even\n",
      "It's odd\n",
      "It's even\n",
      "It's odd\n",
      "It's even\n",
      "It's odd\n",
      "It's even\n",
      "It's odd\n",
      "It's even\n",
      "It's odd\n",
      "It's even\n",
      "It's odd\n",
      "It's even\n",
      "It's odd\n",
      "It's even\n",
      "It's odd\n",
      "It's even\n",
      "It's odd\n",
      "It's even\n",
      "It's odd\n",
      "It's even\n",
      "It's odd\n",
      "It's even\n",
      "It's odd\n",
      "It's even\n",
      "It's odd\n",
      "It's even\n",
      "It's odd\n",
      "It's even\n",
      "It's odd\n",
      "It's even\n",
      "It's odd\n",
      "It's even\n",
      "It's odd\n",
      "It's even\n",
      "It's odd\n",
      "It's even\n",
      "It's odd\n",
      "It's even\n",
      "It's odd\n",
      "It's even\n",
      "It's odd\n",
      "It's even\n",
      "It's odd\n",
      "It's even\n",
      "It's odd\n",
      "It's even\n",
      "It's odd\n",
      "It's even\n",
      "It's odd\n",
      "It's even\n",
      "It's odd\n",
      "It's even\n",
      "It's odd\n",
      "It's even\n",
      "It's odd\n",
      "It's even\n",
      "It's odd\n",
      "It's even\n",
      "It's odd\n",
      "It's even\n",
      "It's odd\n",
      "It's even\n",
      "It's odd\n",
      "It's even\n",
      "It's odd\n",
      "It's even\n",
      "It's odd\n",
      "It's even\n",
      "It's odd\n",
      "It's even\n",
      "It's odd\n",
      "It's even\n",
      "It's odd\n",
      "It's even\n",
      "It's odd\n",
      "It's even\n",
      "It's odd\n",
      "It's even\n",
      "It's odd\n",
      "It's even\n",
      "It's odd\n",
      "It's even\n",
      "It's odd\n",
      "It's even\n",
      "It's odd\n",
      "It's even\n",
      "It's odd\n",
      "It's even\n",
      "It's odd\n",
      "It's even\n",
      "It's odd\n",
      "It's even\n",
      "It's odd\n",
      "It's even\n",
      "It's odd\n",
      "It's even\n",
      "It's odd\n",
      "It's even\n",
      "It's odd\n",
      "It's even\n",
      "It's odd\n",
      "It's even\n",
      "It's odd\n",
      "It's even\n",
      "It's odd\n",
      "It's even\n",
      "It's odd\n",
      "It's even\n",
      "It's odd\n",
      "It's even\n",
      "It's odd\n",
      "It's even\n",
      "It's odd\n",
      "It's even\n",
      "It's odd\n",
      "It's even\n",
      "It's odd\n",
      "It's even\n",
      "It's odd\n",
      "It's even\n",
      "It's odd\n",
      "It's even\n",
      "It's odd\n",
      "It's even\n",
      "It's odd\n",
      "It's even\n",
      "It's odd\n",
      "It's even\n",
      "It's odd\n",
      "It's even\n",
      "It's odd\n",
      "It's even\n",
      "It's odd\n",
      "It's even\n",
      "It's odd\n",
      "It's even\n",
      "It's odd\n",
      "It's even\n",
      "It's odd\n",
      "It's even\n",
      "It's odd\n",
      "It's even\n",
      "It's odd\n",
      "It's even\n",
      "It's odd\n",
      "It's even\n",
      "It's odd\n",
      "It's even\n",
      "It's odd\n",
      "It's even\n",
      "It's odd\n",
      "It's even\n",
      "It's odd\n",
      "It's even\n",
      "It's odd\n",
      "It's even\n",
      "It's odd\n",
      "It's even\n",
      "It's odd\n",
      "It's even\n",
      "It's odd\n",
      "It's even\n",
      "It's odd\n",
      "It's even\n",
      "It's odd\n",
      "It's even\n",
      "It's odd\n",
      "It's even\n",
      "It's odd\n",
      "It's even\n",
      "It's odd\n",
      "It's even\n",
      "It's odd\n",
      "It's even\n",
      "It's odd\n",
      "It's even\n",
      "It's odd\n",
      "It's even\n",
      "It's odd\n",
      "It's even\n",
      "It's odd\n",
      "It's even\n",
      "It's odd\n",
      "It's even\n",
      "It's odd\n",
      "It's even\n",
      "It's odd\n",
      "It's even\n",
      "It's odd\n",
      "It's even\n",
      "It's odd\n",
      "It's even\n",
      "It's odd\n",
      "It's even\n",
      "It's odd\n",
      "It's even\n",
      "It's odd\n",
      "It's even\n",
      "It's odd\n",
      "It's even\n",
      "It's odd\n",
      "It's even\n",
      "It's odd\n",
      "It's even\n",
      "It's odd\n",
      "It's even\n",
      "It's odd\n",
      "It's even\n",
      "It's odd\n",
      "It's even\n",
      "It's odd\n",
      "It's even\n",
      "It's odd\n",
      "It's even\n",
      "It's odd\n",
      "It's even\n",
      "It's odd\n",
      "It's even\n",
      "It's odd\n",
      "It's even\n",
      "It's odd\n",
      "It's even\n",
      "It's odd\n",
      "It's even\n",
      "It's odd\n",
      "It's even\n",
      "It's odd\n",
      "It's even\n",
      "It's odd\n",
      "It's even\n",
      "It's odd\n",
      "It's even\n",
      "It's odd\n",
      "It's even\n",
      "It's odd\n",
      "It's even\n",
      "It's odd\n",
      "It's even\n",
      "It's odd\n",
      "It's even\n",
      "It's odd\n",
      "It's even\n",
      "It's odd\n",
      "It's even\n",
      "It's odd\n",
      "It's even\n",
      "It's odd\n",
      "It's even\n",
      "It's odd\n",
      "It's even\n",
      "It's odd\n",
      "It's even\n",
      "It's odd\n",
      "It's even\n",
      "It's odd\n",
      "It's even\n",
      "It's odd\n",
      "It's even\n",
      "It's odd\n",
      "It's even\n",
      "It's odd\n",
      "It's even\n",
      "It's odd\n",
      "It's even\n",
      "It's odd\n",
      "It's even\n",
      "It's odd\n",
      "It's even\n",
      "It's odd\n",
      "It's even\n",
      "It's odd\n",
      "It's even\n",
      "It's odd\n",
      "It's even\n",
      "It's odd\n",
      "It's even\n",
      "It's odd\n",
      "It's even\n",
      "It's odd\n",
      "It's even\n",
      "It's odd\n"
     ]
    }
   ],
   "source": [
    "\n",
    "for i in range(1000):\n",
    "    if i % 2 == 0:\n",
    "        print(\"It's even\")\n",
    "    else:\n",
    "        print(\"It's odd\")\n",
    "\n"
   ]
  },
  {
   "cell_type": "code",
   "execution_count": null,
   "id": "73446ae8",
   "metadata": {},
   "outputs": [],
   "source": [
    "try:\n",
    "    # checks if the code here has an error\n",
    "except: \n",
    "    # solution to the error"
   ]
  },
  {
   "cell_type": "markdown",
   "id": "3ec07227",
   "metadata": {},
   "source": [
    "# Simplified Version of the monty hall problem code"
   ]
  },
  {
   "cell_type": "code",
   "execution_count": 81,
   "id": "7bb27a1d",
   "metadata": {},
   "outputs": [
    {
     "name": "stdout",
     "output_type": "stream",
     "text": [
      "Win probability by switching: 0.666423\n"
     ]
    }
   ],
   "source": [
    "import numpy as np\n",
    "\n",
    "# Set up initial parameters\n",
    "reps = 1000000  # Number of repetitions\n",
    "wins = 0  # Counter for wins\n",
    "\n",
    "# Run the simulation\n",
    "for _ in range(reps):\n",
    "    # Randomly assign the winning door (1, 2, or 3)\n",
    "    winning_door = np.random.choice([1, 2, 3])\n",
    "    \n",
    "    # Assume the player always chooses door 1\n",
    "    player_choice = 1\n",
    "    \n",
    "    # The host reveals a goat door (not the player's choice and not the winning door)\n",
    "    remaining_doors = [door for door in [1, 2, 3] if door != player_choice and door != winning_door]\n",
    "    goat_door = np.random.choice(remaining_doors)\n",
    "    \n",
    "    # The player switches to the other remaining door\n",
    "    switch_choice = [door for door in [1, 2, 3] if door != player_choice and door != goat_door][0]\n",
    "    \n",
    "    # Check if the switch choice is the winning door\n",
    "    if switch_choice == winning_door:\n",
    "        wins += 1\n",
    "\n",
    "# Calculate and print the win probability from switching\n",
    "print(f\"Win probability by switching: {wins / reps}\")"
   ]
  },
  {
   "cell_type": "code",
   "execution_count": null,
   "id": "1b9e2b44",
   "metadata": {},
   "outputs": [],
   "source": []
  },
  {
   "cell_type": "code",
   "execution_count": 73,
   "id": "a88928a4",
   "metadata": {},
   "outputs": [],
   "source": [
    "lst = [1,2,3]"
   ]
  },
  {
   "cell_type": "code",
   "execution_count": 76,
   "id": "cf0e00c1",
   "metadata": {},
   "outputs": [],
   "source": [
    "lst = lst + [4]"
   ]
  },
  {
   "cell_type": "code",
   "execution_count": 77,
   "id": "c58b6c8e",
   "metadata": {},
   "outputs": [
    {
     "data": {
      "text/plain": [
       "[1, 2, 3, 4, 4]"
      ]
     },
     "execution_count": 77,
     "metadata": {},
     "output_type": "execute_result"
    }
   ],
   "source": [
    "lst"
   ]
  },
  {
   "cell_type": "code",
   "execution_count": null,
   "id": "ecb32c1c",
   "metadata": {},
   "outputs": [],
   "source": []
  },
  {
   "cell_type": "code",
   "execution_count": null,
   "id": "375e8635",
   "metadata": {},
   "outputs": [],
   "source": []
  },
  {
   "cell_type": "code",
   "execution_count": 20,
   "id": "d07db8b8",
   "metadata": {},
   "outputs": [],
   "source": [
    "my_tuple = (1,2,3)"
   ]
  },
  {
   "cell_type": "code",
   "execution_count": 21,
   "id": "4fb2adb2",
   "metadata": {},
   "outputs": [],
   "source": [
    "my_tuple = (4,5,6)"
   ]
  },
  {
   "cell_type": "code",
   "execution_count": 24,
   "id": "bc7f70a2",
   "metadata": {},
   "outputs": [
    {
     "ename": "TypeError",
     "evalue": "'tuple' object does not support item assignment",
     "output_type": "error",
     "traceback": [
      "\u001b[0;31m---------------------------------------------------------------------------\u001b[0m",
      "\u001b[0;31mTypeError\u001b[0m                                 Traceback (most recent call last)",
      "Cell \u001b[0;32mIn[24], line 1\u001b[0m\n\u001b[0;32m----> 1\u001b[0m \u001b[43mmy_tuple\u001b[49m\u001b[43m[\u001b[49m\u001b[38;5;241;43m0\u001b[39;49m\u001b[43m]\u001b[49m \u001b[38;5;241m=\u001b[39m \u001b[38;5;241m10\u001b[39m\n",
      "\u001b[0;31mTypeError\u001b[0m: 'tuple' object does not support item assignment"
     ]
    }
   ],
   "source": [
    "my_tuple[0] = 10"
   ]
  },
  {
   "cell_type": "code",
   "execution_count": 22,
   "id": "b7907c9e",
   "metadata": {},
   "outputs": [
    {
     "data": {
      "text/plain": [
       "(4, 5, 6)"
      ]
     },
     "execution_count": 22,
     "metadata": {},
     "output_type": "execute_result"
    }
   ],
   "source": [
    "my_tuple"
   ]
  },
  {
   "cell_type": "code",
   "execution_count": 25,
   "id": "cbe4c335",
   "metadata": {},
   "outputs": [],
   "source": [
    "my_list = [1,2,3]"
   ]
  },
  {
   "cell_type": "code",
   "execution_count": 27,
   "id": "7a968d2a",
   "metadata": {},
   "outputs": [
    {
     "data": {
      "text/plain": [
       "1"
      ]
     },
     "execution_count": 27,
     "metadata": {},
     "output_type": "execute_result"
    }
   ],
   "source": [
    "my_list[0]"
   ]
  },
  {
   "cell_type": "code",
   "execution_count": 28,
   "id": "9a73aaf9",
   "metadata": {},
   "outputs": [],
   "source": [
    "my_list[0] = 7"
   ]
  },
  {
   "cell_type": "code",
   "execution_count": 29,
   "id": "115ecff8",
   "metadata": {},
   "outputs": [
    {
     "data": {
      "text/plain": [
       "[7, 2, 3]"
      ]
     },
     "execution_count": 29,
     "metadata": {},
     "output_type": "execute_result"
    }
   ],
   "source": [
    "my_list"
   ]
  },
  {
   "cell_type": "code",
   "execution_count": 30,
   "id": "bf9decf5",
   "metadata": {},
   "outputs": [],
   "source": [
    "my_dictionary = {\"key1\":44, \"key2\":55}"
   ]
  },
  {
   "cell_type": "code",
   "execution_count": 31,
   "id": "d72168d2",
   "metadata": {},
   "outputs": [
    {
     "data": {
      "text/plain": [
       "44"
      ]
     },
     "execution_count": 31,
     "metadata": {},
     "output_type": "execute_result"
    }
   ],
   "source": [
    "my_dictionary[\"key1\"]"
   ]
  },
  {
   "cell_type": "code",
   "execution_count": 32,
   "id": "a76979ef",
   "metadata": {},
   "outputs": [],
   "source": [
    "my_dictionary[\"key1\"] = 66"
   ]
  },
  {
   "cell_type": "code",
   "execution_count": 33,
   "id": "39fa8a2c",
   "metadata": {},
   "outputs": [
    {
     "data": {
      "text/plain": [
       "{'key1': 66, 'key2': 55}"
      ]
     },
     "execution_count": 33,
     "metadata": {},
     "output_type": "execute_result"
    }
   ],
   "source": [
    "my_dictionary"
   ]
  },
  {
   "cell_type": "code",
   "execution_count": 58,
   "id": "75fcbb51",
   "metadata": {},
   "outputs": [],
   "source": [
    "our_list = [\"cat\", \"dog\", \"deer\", \"horse\"]"
   ]
  },
  {
   "cell_type": "code",
   "execution_count": 60,
   "id": "efe555ac",
   "metadata": {},
   "outputs": [
    {
     "name": "stdout",
     "output_type": "stream",
     "text": [
      "cat\n",
      "This one is an animal\n",
      "dog\n",
      "This one is an animal\n",
      "deer\n",
      "This one is an animal\n",
      "horse\n",
      "This one is an animal\n"
     ]
    }
   ],
   "source": [
    "for animal in our_list:\n",
    "    print(animal)\n",
    "    print(\"This one is an animal\")"
   ]
  },
  {
   "cell_type": "code",
   "execution_count": 61,
   "id": "a4369606",
   "metadata": {},
   "outputs": [
    {
     "name": "stdout",
     "output_type": "stream",
     "text": [
      "0\n",
      "1\n",
      "2\n",
      "3\n",
      "4\n",
      "5\n",
      "6\n",
      "7\n",
      "8\n",
      "9\n",
      "10\n",
      "11\n",
      "12\n",
      "13\n",
      "14\n",
      "15\n",
      "16\n",
      "17\n",
      "18\n",
      "19\n",
      "20\n",
      "21\n",
      "22\n",
      "23\n",
      "24\n",
      "25\n",
      "26\n",
      "27\n",
      "28\n",
      "29\n",
      "30\n",
      "31\n",
      "32\n",
      "33\n",
      "34\n",
      "35\n",
      "36\n",
      "37\n",
      "38\n",
      "39\n",
      "40\n",
      "41\n",
      "42\n",
      "43\n",
      "44\n",
      "45\n",
      "46\n",
      "47\n",
      "48\n",
      "49\n",
      "50\n",
      "51\n",
      "52\n",
      "53\n",
      "54\n",
      "55\n",
      "56\n",
      "57\n",
      "58\n",
      "59\n",
      "60\n",
      "61\n",
      "62\n",
      "63\n",
      "64\n",
      "65\n",
      "66\n",
      "67\n",
      "68\n",
      "69\n",
      "70\n",
      "71\n",
      "72\n",
      "73\n",
      "74\n",
      "75\n",
      "76\n",
      "77\n",
      "78\n",
      "79\n",
      "80\n",
      "81\n",
      "82\n",
      "83\n",
      "84\n",
      "85\n",
      "86\n",
      "87\n",
      "88\n",
      "89\n",
      "90\n",
      "91\n",
      "92\n",
      "93\n",
      "94\n",
      "95\n",
      "96\n",
      "97\n",
      "98\n",
      "99\n",
      "100\n",
      "101\n",
      "102\n",
      "103\n",
      "104\n",
      "105\n",
      "106\n",
      "107\n",
      "108\n",
      "109\n",
      "110\n",
      "111\n",
      "112\n",
      "113\n",
      "114\n",
      "115\n",
      "116\n",
      "117\n",
      "118\n",
      "119\n",
      "120\n",
      "121\n",
      "122\n",
      "123\n",
      "124\n",
      "125\n",
      "126\n",
      "127\n",
      "128\n",
      "129\n",
      "130\n",
      "131\n",
      "132\n",
      "133\n",
      "134\n",
      "135\n",
      "136\n",
      "137\n",
      "138\n",
      "139\n",
      "140\n",
      "141\n",
      "142\n",
      "143\n",
      "144\n",
      "145\n",
      "146\n",
      "147\n",
      "148\n",
      "149\n",
      "150\n",
      "151\n",
      "152\n",
      "153\n",
      "154\n",
      "155\n",
      "156\n",
      "157\n",
      "158\n",
      "159\n",
      "160\n",
      "161\n",
      "162\n",
      "163\n",
      "164\n",
      "165\n",
      "166\n",
      "167\n",
      "168\n",
      "169\n",
      "170\n",
      "171\n",
      "172\n",
      "173\n",
      "174\n",
      "175\n",
      "176\n",
      "177\n",
      "178\n",
      "179\n",
      "180\n",
      "181\n",
      "182\n",
      "183\n",
      "184\n",
      "185\n",
      "186\n",
      "187\n",
      "188\n",
      "189\n",
      "190\n",
      "191\n",
      "192\n",
      "193\n",
      "194\n",
      "195\n",
      "196\n",
      "197\n",
      "198\n",
      "199\n",
      "200\n",
      "201\n",
      "202\n",
      "203\n",
      "204\n",
      "205\n",
      "206\n",
      "207\n",
      "208\n",
      "209\n",
      "210\n",
      "211\n",
      "212\n",
      "213\n",
      "214\n",
      "215\n",
      "216\n",
      "217\n",
      "218\n",
      "219\n",
      "220\n",
      "221\n",
      "222\n",
      "223\n",
      "224\n",
      "225\n",
      "226\n",
      "227\n",
      "228\n",
      "229\n",
      "230\n",
      "231\n",
      "232\n",
      "233\n",
      "234\n",
      "235\n",
      "236\n",
      "237\n",
      "238\n",
      "239\n",
      "240\n",
      "241\n",
      "242\n",
      "243\n",
      "244\n",
      "245\n",
      "246\n",
      "247\n",
      "248\n",
      "249\n",
      "250\n",
      "251\n",
      "252\n",
      "253\n",
      "254\n",
      "255\n",
      "256\n",
      "257\n",
      "258\n",
      "259\n",
      "260\n",
      "261\n",
      "262\n",
      "263\n",
      "264\n",
      "265\n",
      "266\n",
      "267\n",
      "268\n",
      "269\n",
      "270\n",
      "271\n",
      "272\n",
      "273\n",
      "274\n",
      "275\n",
      "276\n",
      "277\n",
      "278\n",
      "279\n",
      "280\n",
      "281\n",
      "282\n",
      "283\n",
      "284\n",
      "285\n",
      "286\n",
      "287\n",
      "288\n",
      "289\n",
      "290\n",
      "291\n",
      "292\n",
      "293\n",
      "294\n",
      "295\n",
      "296\n",
      "297\n",
      "298\n",
      "299\n",
      "300\n",
      "301\n",
      "302\n",
      "303\n",
      "304\n",
      "305\n",
      "306\n",
      "307\n",
      "308\n",
      "309\n",
      "310\n",
      "311\n",
      "312\n",
      "313\n",
      "314\n",
      "315\n",
      "316\n",
      "317\n",
      "318\n",
      "319\n",
      "320\n",
      "321\n",
      "322\n",
      "323\n",
      "324\n",
      "325\n",
      "326\n",
      "327\n",
      "328\n",
      "329\n",
      "330\n",
      "331\n",
      "332\n",
      "333\n",
      "334\n",
      "335\n",
      "336\n",
      "337\n",
      "338\n",
      "339\n",
      "340\n",
      "341\n",
      "342\n",
      "343\n",
      "344\n",
      "345\n",
      "346\n",
      "347\n",
      "348\n",
      "349\n",
      "350\n",
      "351\n",
      "352\n",
      "353\n",
      "354\n",
      "355\n",
      "356\n",
      "357\n",
      "358\n",
      "359\n",
      "360\n",
      "361\n",
      "362\n",
      "363\n",
      "364\n",
      "365\n",
      "366\n",
      "367\n",
      "368\n",
      "369\n",
      "370\n",
      "371\n",
      "372\n",
      "373\n",
      "374\n",
      "375\n",
      "376\n",
      "377\n",
      "378\n",
      "379\n",
      "380\n",
      "381\n",
      "382\n",
      "383\n",
      "384\n",
      "385\n",
      "386\n",
      "387\n",
      "388\n",
      "389\n",
      "390\n",
      "391\n",
      "392\n",
      "393\n",
      "394\n",
      "395\n",
      "396\n",
      "397\n",
      "398\n",
      "399\n",
      "400\n",
      "401\n",
      "402\n",
      "403\n",
      "404\n",
      "405\n",
      "406\n",
      "407\n",
      "408\n",
      "409\n",
      "410\n",
      "411\n",
      "412\n",
      "413\n",
      "414\n",
      "415\n",
      "416\n",
      "417\n",
      "418\n",
      "419\n",
      "420\n",
      "421\n",
      "422\n",
      "423\n",
      "424\n",
      "425\n",
      "426\n",
      "427\n",
      "428\n",
      "429\n",
      "430\n",
      "431\n",
      "432\n",
      "433\n",
      "434\n",
      "435\n",
      "436\n",
      "437\n",
      "438\n",
      "439\n",
      "440\n",
      "441\n",
      "442\n",
      "443\n",
      "444\n",
      "445\n",
      "446\n",
      "447\n",
      "448\n",
      "449\n",
      "450\n",
      "451\n",
      "452\n",
      "453\n",
      "454\n",
      "455\n",
      "456\n",
      "457\n",
      "458\n",
      "459\n",
      "460\n",
      "461\n",
      "462\n",
      "463\n",
      "464\n",
      "465\n",
      "466\n",
      "467\n",
      "468\n",
      "469\n",
      "470\n",
      "471\n",
      "472\n",
      "473\n",
      "474\n",
      "475\n",
      "476\n",
      "477\n",
      "478\n",
      "479\n",
      "480\n",
      "481\n",
      "482\n",
      "483\n",
      "484\n",
      "485\n",
      "486\n",
      "487\n",
      "488\n",
      "489\n",
      "490\n",
      "491\n",
      "492\n",
      "493\n",
      "494\n",
      "495\n",
      "496\n",
      "497\n",
      "498\n",
      "499\n",
      "500\n",
      "501\n",
      "502\n",
      "503\n",
      "504\n",
      "505\n",
      "506\n",
      "507\n",
      "508\n",
      "509\n",
      "510\n",
      "511\n",
      "512\n",
      "513\n",
      "514\n",
      "515\n",
      "516\n",
      "517\n",
      "518\n",
      "519\n",
      "520\n",
      "521\n",
      "522\n",
      "523\n",
      "524\n",
      "525\n",
      "526\n",
      "527\n",
      "528\n",
      "529\n",
      "530\n",
      "531\n",
      "532\n",
      "533\n",
      "534\n",
      "535\n",
      "536\n",
      "537\n",
      "538\n",
      "539\n",
      "540\n",
      "541\n",
      "542\n",
      "543\n",
      "544\n",
      "545\n",
      "546\n",
      "547\n",
      "548\n",
      "549\n",
      "550\n",
      "551\n",
      "552\n",
      "553\n",
      "554\n",
      "555\n",
      "556\n",
      "557\n",
      "558\n",
      "559\n",
      "560\n",
      "561\n",
      "562\n",
      "563\n",
      "564\n",
      "565\n",
      "566\n",
      "567\n",
      "568\n",
      "569\n",
      "570\n",
      "571\n",
      "572\n",
      "573\n",
      "574\n",
      "575\n",
      "576\n",
      "577\n",
      "578\n",
      "579\n",
      "580\n",
      "581\n",
      "582\n",
      "583\n",
      "584\n",
      "585\n",
      "586\n",
      "587\n",
      "588\n",
      "589\n",
      "590\n",
      "591\n",
      "592\n",
      "593\n",
      "594\n",
      "595\n",
      "596\n",
      "597\n",
      "598\n",
      "599\n",
      "600\n",
      "601\n",
      "602\n",
      "603\n",
      "604\n",
      "605\n",
      "606\n",
      "607\n",
      "608\n",
      "609\n",
      "610\n",
      "611\n",
      "612\n",
      "613\n",
      "614\n",
      "615\n",
      "616\n",
      "617\n",
      "618\n",
      "619\n",
      "620\n",
      "621\n",
      "622\n",
      "623\n",
      "624\n",
      "625\n",
      "626\n",
      "627\n",
      "628\n",
      "629\n",
      "630\n",
      "631\n",
      "632\n",
      "633\n",
      "634\n",
      "635\n",
      "636\n",
      "637\n",
      "638\n",
      "639\n",
      "640\n",
      "641\n",
      "642\n",
      "643\n",
      "644\n",
      "645\n",
      "646\n",
      "647\n",
      "648\n",
      "649\n",
      "650\n",
      "651\n",
      "652\n",
      "653\n",
      "654\n",
      "655\n",
      "656\n",
      "657\n",
      "658\n",
      "659\n",
      "660\n",
      "661\n",
      "662\n",
      "663\n",
      "664\n",
      "665\n",
      "666\n",
      "667\n",
      "668\n",
      "669\n",
      "670\n",
      "671\n",
      "672\n",
      "673\n",
      "674\n",
      "675\n",
      "676\n",
      "677\n",
      "678\n",
      "679\n",
      "680\n",
      "681\n",
      "682\n",
      "683\n",
      "684\n",
      "685\n",
      "686\n",
      "687\n",
      "688\n",
      "689\n",
      "690\n",
      "691\n",
      "692\n",
      "693\n",
      "694\n",
      "695\n",
      "696\n",
      "697\n",
      "698\n",
      "699\n",
      "700\n",
      "701\n",
      "702\n",
      "703\n",
      "704\n",
      "705\n",
      "706\n",
      "707\n",
      "708\n",
      "709\n",
      "710\n",
      "711\n",
      "712\n",
      "713\n",
      "714\n",
      "715\n",
      "716\n",
      "717\n",
      "718\n",
      "719\n",
      "720\n",
      "721\n",
      "722\n",
      "723\n",
      "724\n",
      "725\n",
      "726\n",
      "727\n",
      "728\n",
      "729\n",
      "730\n",
      "731\n",
      "732\n",
      "733\n",
      "734\n",
      "735\n",
      "736\n",
      "737\n",
      "738\n",
      "739\n",
      "740\n",
      "741\n",
      "742\n",
      "743\n",
      "744\n",
      "745\n",
      "746\n",
      "747\n",
      "748\n",
      "749\n",
      "750\n",
      "751\n",
      "752\n",
      "753\n",
      "754\n",
      "755\n",
      "756\n",
      "757\n",
      "758\n",
      "759\n",
      "760\n",
      "761\n",
      "762\n",
      "763\n",
      "764\n",
      "765\n",
      "766\n",
      "767\n",
      "768\n",
      "769\n",
      "770\n",
      "771\n",
      "772\n",
      "773\n",
      "774\n",
      "775\n",
      "776\n",
      "777\n",
      "778\n",
      "779\n",
      "780\n",
      "781\n",
      "782\n",
      "783\n",
      "784\n",
      "785\n",
      "786\n",
      "787\n",
      "788\n",
      "789\n",
      "790\n",
      "791\n",
      "792\n",
      "793\n",
      "794\n",
      "795\n",
      "796\n",
      "797\n",
      "798\n",
      "799\n",
      "800\n",
      "801\n",
      "802\n",
      "803\n",
      "804\n",
      "805\n",
      "806\n",
      "807\n",
      "808\n",
      "809\n",
      "810\n",
      "811\n",
      "812\n",
      "813\n",
      "814\n",
      "815\n",
      "816\n",
      "817\n",
      "818\n",
      "819\n",
      "820\n",
      "821\n",
      "822\n",
      "823\n",
      "824\n",
      "825\n",
      "826\n",
      "827\n",
      "828\n",
      "829\n",
      "830\n",
      "831\n",
      "832\n",
      "833\n",
      "834\n",
      "835\n",
      "836\n",
      "837\n",
      "838\n",
      "839\n",
      "840\n",
      "841\n",
      "842\n",
      "843\n",
      "844\n",
      "845\n",
      "846\n",
      "847\n",
      "848\n",
      "849\n",
      "850\n",
      "851\n",
      "852\n",
      "853\n",
      "854\n",
      "855\n",
      "856\n",
      "857\n",
      "858\n",
      "859\n",
      "860\n",
      "861\n",
      "862\n",
      "863\n",
      "864\n",
      "865\n",
      "866\n",
      "867\n",
      "868\n",
      "869\n",
      "870\n",
      "871\n",
      "872\n",
      "873\n",
      "874\n",
      "875\n",
      "876\n",
      "877\n",
      "878\n",
      "879\n",
      "880\n",
      "881\n",
      "882\n",
      "883\n",
      "884\n",
      "885\n",
      "886\n",
      "887\n",
      "888\n",
      "889\n",
      "890\n",
      "891\n",
      "892\n",
      "893\n",
      "894\n",
      "895\n",
      "896\n",
      "897\n",
      "898\n",
      "899\n",
      "900\n",
      "901\n",
      "902\n",
      "903\n",
      "904\n",
      "905\n",
      "906\n",
      "907\n",
      "908\n",
      "909\n",
      "910\n",
      "911\n",
      "912\n",
      "913\n",
      "914\n",
      "915\n",
      "916\n",
      "917\n",
      "918\n",
      "919\n",
      "920\n",
      "921\n",
      "922\n",
      "923\n",
      "924\n",
      "925\n",
      "926\n",
      "927\n",
      "928\n",
      "929\n",
      "930\n",
      "931\n",
      "932\n",
      "933\n",
      "934\n",
      "935\n",
      "936\n",
      "937\n",
      "938\n",
      "939\n",
      "940\n",
      "941\n",
      "942\n",
      "943\n",
      "944\n",
      "945\n",
      "946\n",
      "947\n",
      "948\n",
      "949\n",
      "950\n",
      "951\n",
      "952\n",
      "953\n",
      "954\n",
      "955\n",
      "956\n",
      "957\n",
      "958\n",
      "959\n",
      "960\n",
      "961\n",
      "962\n",
      "963\n",
      "964\n",
      "965\n",
      "966\n",
      "967\n",
      "968\n",
      "969\n",
      "970\n",
      "971\n",
      "972\n",
      "973\n",
      "974\n",
      "975\n",
      "976\n",
      "977\n",
      "978\n",
      "979\n",
      "980\n",
      "981\n",
      "982\n",
      "983\n",
      "984\n",
      "985\n",
      "986\n",
      "987\n",
      "988\n",
      "989\n",
      "990\n",
      "991\n",
      "992\n",
      "993\n",
      "994\n",
      "995\n",
      "996\n",
      "997\n",
      "998\n",
      "999\n"
     ]
    }
   ],
   "source": [
    "for i in range(1000):\n",
    "    print(i)"
   ]
  },
  {
   "cell_type": "code",
   "execution_count": 62,
   "id": "6bddbc73",
   "metadata": {},
   "outputs": [
    {
     "data": {
      "text/plain": [
       "range(0, 1000)"
      ]
     },
     "execution_count": 62,
     "metadata": {},
     "output_type": "execute_result"
    }
   ],
   "source": [
    "range(1000)"
   ]
  },
  {
   "cell_type": "code",
   "execution_count": 63,
   "id": "838925ea",
   "metadata": {},
   "outputs": [
    {
     "name": "stdout",
     "output_type": "stream",
     "text": [
      "0\n",
      "cat\n",
      "1\n",
      "dog\n",
      "2\n",
      "deer\n",
      "3\n",
      "horse\n"
     ]
    }
   ],
   "source": [
    "for idx, value in enumerate(our_list):\n",
    "    print(idx)\n",
    "    print(value)"
   ]
  },
  {
   "cell_type": "code",
   "execution_count": null,
   "id": "f6e19fa4",
   "metadata": {},
   "outputs": [],
   "source": []
  },
  {
   "cell_type": "code",
   "execution_count": null,
   "id": "aa43902f",
   "metadata": {},
   "outputs": [],
   "source": []
  },
  {
   "cell_type": "code",
   "execution_count": null,
   "id": "d09db961",
   "metadata": {},
   "outputs": [],
   "source": []
  },
  {
   "cell_type": "code",
   "execution_count": null,
   "id": "3a20aec3",
   "metadata": {},
   "outputs": [],
   "source": []
  },
  {
   "cell_type": "code",
   "execution_count": 2,
   "id": "f6f191b1",
   "metadata": {},
   "outputs": [
    {
     "data": {
      "text/plain": [
       "10"
      ]
     },
     "execution_count": 2,
     "metadata": {},
     "output_type": "execute_result"
    }
   ],
   "source": [
    "10"
   ]
  },
  {
   "cell_type": "code",
   "execution_count": 3,
   "id": "b1cafd91",
   "metadata": {},
   "outputs": [
    {
     "data": {
      "text/plain": [
       "3.5"
      ]
     },
     "execution_count": 3,
     "metadata": {},
     "output_type": "execute_result"
    }
   ],
   "source": [
    "3.5"
   ]
  },
  {
   "cell_type": "code",
   "execution_count": 4,
   "id": "59dc216c",
   "metadata": {},
   "outputs": [
    {
     "data": {
      "text/plain": [
       "'sta130'"
      ]
     },
     "execution_count": 4,
     "metadata": {},
     "output_type": "execute_result"
    }
   ],
   "source": [
    "\"sta130\""
   ]
  },
  {
   "cell_type": "code",
   "execution_count": 6,
   "id": "a625cee1",
   "metadata": {},
   "outputs": [
    {
     "data": {
      "text/plain": [
       "True"
      ]
     },
     "execution_count": 6,
     "metadata": {},
     "output_type": "execute_result"
    }
   ],
   "source": [
    "True"
   ]
  },
  {
   "cell_type": "code",
   "execution_count": 8,
   "id": "8373285a",
   "metadata": {},
   "outputs": [
    {
     "data": {
      "text/plain": [
       "['sta130', 'mat137', 'csc108']"
      ]
     },
     "execution_count": 8,
     "metadata": {},
     "output_type": "execute_result"
    }
   ],
   "source": [
    "[\"sta130\", \"mat137\", \"csc108\"]"
   ]
  },
  {
   "cell_type": "code",
   "execution_count": 9,
   "id": "a7816af1",
   "metadata": {},
   "outputs": [
    {
     "data": {
      "text/plain": [
       "[True, False, True]"
      ]
     },
     "execution_count": 9,
     "metadata": {},
     "output_type": "execute_result"
    }
   ],
   "source": [
    "[True, False, True]"
   ]
  },
  {
   "cell_type": "code",
   "execution_count": 10,
   "id": "e48c3b7f",
   "metadata": {},
   "outputs": [
    {
     "data": {
      "text/plain": [
       "[1, 'sta130', False]"
      ]
     },
     "execution_count": 10,
     "metadata": {},
     "output_type": "execute_result"
    }
   ],
   "source": [
    "[1, \"sta130\", False]"
   ]
  },
  {
   "cell_type": "code",
   "execution_count": 11,
   "id": "eb888e52",
   "metadata": {},
   "outputs": [
    {
     "data": {
      "text/plain": [
       "{'a': 1234, 'b': 4356, 'c': 7865}"
      ]
     },
     "execution_count": 11,
     "metadata": {},
     "output_type": "execute_result"
    }
   ],
   "source": [
    "{\"a\": 1234, \"b\":4356, \"c\":7865}"
   ]
  },
  {
   "cell_type": "code",
   "execution_count": 15,
   "id": "128b98f1",
   "metadata": {},
   "outputs": [
    {
     "data": {
      "text/plain": [
       "(1, 2, 3)"
      ]
     },
     "execution_count": 15,
     "metadata": {},
     "output_type": "execute_result"
    }
   ],
   "source": [
    "(1, 2, 3) #tuple"
   ]
  },
  {
   "cell_type": "code",
   "execution_count": 13,
   "id": "b8b8c17d",
   "metadata": {},
   "outputs": [
    {
     "data": {
      "text/plain": [
       "[1, 2, 3]"
      ]
     },
     "execution_count": 13,
     "metadata": {},
     "output_type": "execute_result"
    }
   ],
   "source": [
    "[1, 2, 3] #list"
   ]
  },
  {
   "cell_type": "code",
   "execution_count": 18,
   "id": "14d679c6",
   "metadata": {},
   "outputs": [],
   "source": [
    "class_list = [\"sta130\", \"mat137\", \"csc108\"]"
   ]
  },
  {
   "cell_type": "code",
   "execution_count": 21,
   "id": "8b94a076",
   "metadata": {},
   "outputs": [
    {
     "data": {
      "text/plain": [
       "['sta130', 'mat137', 'csc108']"
      ]
     },
     "execution_count": 21,
     "metadata": {},
     "output_type": "execute_result"
    }
   ],
   "source": [
    "class_list"
   ]
  },
  {
   "cell_type": "code",
   "execution_count": 24,
   "id": "509c61da",
   "metadata": {},
   "outputs": [],
   "source": [
    "class_list = class_list + [\"psy100\"]"
   ]
  },
  {
   "cell_type": "code",
   "execution_count": 25,
   "id": "cce88ce9",
   "metadata": {},
   "outputs": [
    {
     "data": {
      "text/plain": [
       "['sta130', 'mat137', 'csc108', 'psy100']"
      ]
     },
     "execution_count": 25,
     "metadata": {},
     "output_type": "execute_result"
    }
   ],
   "source": [
    "class_list"
   ]
  },
  {
   "cell_type": "code",
   "execution_count": 26,
   "id": "668be416",
   "metadata": {},
   "outputs": [],
   "source": [
    "class_list.append(\"mat240\")"
   ]
  },
  {
   "cell_type": "code",
   "execution_count": 29,
   "id": "8cf46cec",
   "metadata": {},
   "outputs": [
    {
     "name": "stdout",
     "output_type": "stream",
     "text": [
      "['sta130', 'mat137', 'csc108', 'psy100', 'mat240']\n"
     ]
    }
   ],
   "source": [
    "print(class_list)\n",
    "x = 5"
   ]
  },
  {
   "cell_type": "code",
   "execution_count": 30,
   "id": "4e4ccef2",
   "metadata": {},
   "outputs": [
    {
     "data": {
      "text/plain": [
       "int"
      ]
     },
     "execution_count": 30,
     "metadata": {},
     "output_type": "execute_result"
    }
   ],
   "source": [
    "type(x)"
   ]
  },
  {
   "cell_type": "code",
   "execution_count": 31,
   "id": "60750113",
   "metadata": {},
   "outputs": [
    {
     "data": {
      "text/plain": [
       "list"
      ]
     },
     "execution_count": 31,
     "metadata": {},
     "output_type": "execute_result"
    }
   ],
   "source": [
    "type(class_list)"
   ]
  },
  {
   "cell_type": "code",
   "execution_count": 32,
   "id": "5e2c36a3",
   "metadata": {},
   "outputs": [],
   "source": [
    "class_tuple = ('sta130', 'mat137', 'csc108', 'psy100', 'mat240')"
   ]
  },
  {
   "cell_type": "code",
   "execution_count": 33,
   "id": "624dd5f4",
   "metadata": {},
   "outputs": [
    {
     "data": {
      "text/plain": [
       "('sta130', 'mat137', 'csc108', 'psy100', 'mat240')"
      ]
     },
     "execution_count": 33,
     "metadata": {},
     "output_type": "execute_result"
    }
   ],
   "source": [
    "class_tuple"
   ]
  },
  {
   "cell_type": "code",
   "execution_count": 34,
   "id": "5578eb75",
   "metadata": {},
   "outputs": [
    {
     "data": {
      "text/plain": [
       "['sta130', 'mat137', 'csc108', 'psy100', 'mat240']"
      ]
     },
     "execution_count": 34,
     "metadata": {},
     "output_type": "execute_result"
    }
   ],
   "source": [
    "class_list"
   ]
  },
  {
   "cell_type": "code",
   "execution_count": null,
   "id": "7ec8a8ff",
   "metadata": {},
   "outputs": [],
   "source": [
    "#Tuple -> Immutable\n",
    "#List -> Mutable"
   ]
  },
  {
   "cell_type": "code",
   "execution_count": 37,
   "id": "dc84756f",
   "metadata": {},
   "outputs": [],
   "source": [
    "class_list[0] = \"eco100\""
   ]
  },
  {
   "cell_type": "code",
   "execution_count": 38,
   "id": "ddd848f3",
   "metadata": {},
   "outputs": [
    {
     "data": {
      "text/plain": [
       "['eco100', 'mat137', 'csc108', 'psy100', 'mat240']"
      ]
     },
     "execution_count": 38,
     "metadata": {},
     "output_type": "execute_result"
    }
   ],
   "source": [
    "class_list"
   ]
  },
  {
   "cell_type": "code",
   "execution_count": 39,
   "id": "f5e3dfde",
   "metadata": {},
   "outputs": [
    {
     "data": {
      "text/plain": [
       "'psy100'"
      ]
     },
     "execution_count": 39,
     "metadata": {},
     "output_type": "execute_result"
    }
   ],
   "source": [
    "class_list[3]"
   ]
  },
  {
   "cell_type": "code",
   "execution_count": 40,
   "id": "3ebdd5c8",
   "metadata": {},
   "outputs": [
    {
     "data": {
      "text/plain": [
       "('sta130', 'mat137', 'csc108', 'psy100', 'mat240')"
      ]
     },
     "execution_count": 40,
     "metadata": {},
     "output_type": "execute_result"
    }
   ],
   "source": [
    "class_tuple"
   ]
  },
  {
   "cell_type": "code",
   "execution_count": 42,
   "id": "0b657c7f",
   "metadata": {},
   "outputs": [
    {
     "data": {
      "text/plain": [
       "5"
      ]
     },
     "execution_count": 42,
     "metadata": {},
     "output_type": "execute_result"
    }
   ],
   "source": [
    "len(class_list)"
   ]
  },
  {
   "cell_type": "code",
   "execution_count": 43,
   "id": "459071d2",
   "metadata": {},
   "outputs": [
    {
     "data": {
      "text/plain": [
       "5"
      ]
     },
     "execution_count": 43,
     "metadata": {},
     "output_type": "execute_result"
    }
   ],
   "source": [
    "len(class_tuple)"
   ]
  },
  {
   "cell_type": "code",
   "execution_count": 44,
   "id": "dc3a626c",
   "metadata": {},
   "outputs": [
    {
     "data": {
      "text/plain": [
       "'psy100'"
      ]
     },
     "execution_count": 44,
     "metadata": {},
     "output_type": "execute_result"
    }
   ],
   "source": [
    "class_tuple[3]"
   ]
  },
  {
   "cell_type": "code",
   "execution_count": null,
   "id": "b518fbc2",
   "metadata": {},
   "outputs": [],
   "source": [
    "#Loops -> For Loop"
   ]
  },
  {
   "cell_type": "code",
   "execution_count": 45,
   "id": "412eda9e",
   "metadata": {},
   "outputs": [
    {
     "name": "stdout",
     "output_type": "stream",
     "text": [
      "1\n",
      "2\n",
      "10\n"
     ]
    }
   ],
   "source": [
    "print(1)\n",
    "print(2)\n",
    "...\n",
    "print(10)"
   ]
  },
  {
   "cell_type": "code",
   "execution_count": null,
   "id": "d4c38006",
   "metadata": {},
   "outputs": [],
   "source": [
    "#for variable in range:\n",
    "    #DO SOMETHING\n",
    "    #variable = varaible + 1"
   ]
  },
  {
   "cell_type": "code",
   "execution_count": 51,
   "id": "337ad83f",
   "metadata": {},
   "outputs": [
    {
     "name": "stdout",
     "output_type": "stream",
     "text": [
      "1\n",
      "2\n",
      "3\n",
      "4\n",
      "5\n",
      "6\n",
      "7\n",
      "8\n",
      "9\n",
      "10\n"
     ]
    }
   ],
   "source": [
    "for i in range(1, 11):\n",
    "    print(i)"
   ]
  },
  {
   "cell_type": "code",
   "execution_count": 60,
   "id": "b3c299cd",
   "metadata": {},
   "outputs": [
    {
     "name": "stdout",
     "output_type": "stream",
     "text": [
      "0\n",
      "eco100\n",
      "1\n",
      "mat137\n",
      "2\n",
      "csc108\n",
      "3\n",
      "psy100\n",
      "4\n",
      "mat240\n"
     ]
    }
   ],
   "source": [
    "#print all the classes in my class_list\n",
    "for x in range(len(class_list)):\n",
    "    print(x)\n",
    "    print(class_list[x])"
   ]
  },
  {
   "cell_type": "code",
   "execution_count": 61,
   "id": "bd7d59f1",
   "metadata": {},
   "outputs": [
    {
     "name": "stdout",
     "output_type": "stream",
     "text": [
      "eco100\n",
      "mat137\n",
      "csc108\n",
      "psy100\n",
      "mat240\n"
     ]
    }
   ],
   "source": [
    "for c in class_list:\n",
    "    print(c)"
   ]
  },
  {
   "cell_type": "code",
   "execution_count": null,
   "id": "6f6dc318",
   "metadata": {},
   "outputs": [],
   "source": [
    "# Conditionals\n",
    "\n",
    "# if Condition:\n",
    "    #DO SOMETHING\n",
    "# elif Condition:\n",
    "    #DO something\n",
    "# else:\n",
    "    #DO SOME OTHER THING\n"
   ]
  },
  {
   "cell_type": "code",
   "execution_count": 69,
   "id": "b9e30917",
   "metadata": {},
   "outputs": [
    {
     "data": {
      "text/plain": [
       "0"
      ]
     },
     "execution_count": 69,
     "metadata": {},
     "output_type": "execute_result"
    }
   ],
   "source": [
    "24 % 2 "
   ]
  },
  {
   "cell_type": "code",
   "execution_count": 71,
   "id": "e93a8f56",
   "metadata": {},
   "outputs": [
    {
     "name": "stdout",
     "output_type": "stream",
     "text": [
      "1: Odd\n",
      "2: Even\n",
      "3: Odd\n",
      "4: Even\n",
      "5: Odd\n",
      "6: Even\n",
      "7: Odd\n",
      "8: Even\n",
      "9: Odd\n",
      "10: Even\n"
     ]
    }
   ],
   "source": [
    "#Print even or odd for each integer\n",
    "integers = [1, 2, 3, 4, 5, 6, 7, 8, 9, 10]\n",
    "for index in range(len(integers)):\n",
    "    if integers[index] % 2 == 0:\n",
    "        print(str(integers[index]) + \": Even\")\n",
    "    else:\n",
    "        print(str(integers[index]) + \": Odd\")"
   ]
  },
  {
   "cell_type": "code",
   "execution_count": 73,
   "id": "6279612a",
   "metadata": {},
   "outputs": [],
   "source": [
    "class_list = [\"csc207\"] + class_list"
   ]
  },
  {
   "cell_type": "code",
   "execution_count": 74,
   "id": "0e7ab291",
   "metadata": {},
   "outputs": [
    {
     "data": {
      "text/plain": [
       "['csc207', 'eco100', 'mat137', 'csc108', 'psy100', 'mat240']"
      ]
     },
     "execution_count": 74,
     "metadata": {},
     "output_type": "execute_result"
    }
   ],
   "source": [
    "class_list"
   ]
  },
  {
   "cell_type": "code",
   "execution_count": 82,
   "id": "2bbb74d9",
   "metadata": {},
   "outputs": [],
   "source": [
    "#print only 2nd year courses\n",
    "for c in class_list:\n",
    "    if c[3] == 2:\n",
    "        print(c)\n",
    "#     else:\n",
    "#         #do nothing"
   ]
  },
  {
   "cell_type": "code",
   "execution_count": 78,
   "id": "e65d2e2f",
   "metadata": {},
   "outputs": [
    {
     "data": {
      "text/plain": [
       "'2'"
      ]
     },
     "execution_count": 78,
     "metadata": {},
     "output_type": "execute_result"
    }
   ],
   "source": [
    "class_list[0][3]"
   ]
  },
  {
   "cell_type": "code",
   "execution_count": 80,
   "id": "dc01f8a6",
   "metadata": {},
   "outputs": [
    {
     "data": {
      "text/plain": [
       "'csc207'"
      ]
     },
     "execution_count": 80,
     "metadata": {},
     "output_type": "execute_result"
    }
   ],
   "source": [
    "class_list[0]"
   ]
  },
  {
   "cell_type": "code",
   "execution_count": 76,
   "id": "01be1c7c",
   "metadata": {
    "scrolled": true
   },
   "outputs": [
    {
     "data": {
      "text/plain": [
       "6"
      ]
     },
     "execution_count": 76,
     "metadata": {},
     "output_type": "execute_result"
    }
   ],
   "source": [
    "len(class_list[0])"
   ]
  },
  {
   "cell_type": "code",
   "execution_count": 83,
   "id": "7e3ae511",
   "metadata": {},
   "outputs": [
    {
     "data": {
      "text/plain": [
       "False"
      ]
     },
     "execution_count": 83,
     "metadata": {},
     "output_type": "execute_result"
    }
   ],
   "source": [
    "\"2\" == 2"
   ]
  },
  {
   "cell_type": "code",
   "execution_count": 87,
   "id": "4a7f7a6d",
   "metadata": {},
   "outputs": [
    {
     "data": {
      "text/plain": [
       "'2'"
      ]
     },
     "execution_count": 87,
     "metadata": {},
     "output_type": "execute_result"
    }
   ],
   "source": [
    "class_list[0][3]"
   ]
  },
  {
   "cell_type": "code",
   "execution_count": 88,
   "id": "a3585067",
   "metadata": {},
   "outputs": [
    {
     "data": {
      "text/plain": [
       "True"
      ]
     },
     "execution_count": 88,
     "metadata": {},
     "output_type": "execute_result"
    }
   ],
   "source": [
    "int(class_list[0][3]) == 2"
   ]
  },
  {
   "cell_type": "code",
   "execution_count": 89,
   "id": "d17b8ca7",
   "metadata": {},
   "outputs": [],
   "source": [
    "import numpy as np"
   ]
  },
  {
   "cell_type": "code",
   "execution_count": 101,
   "id": "dcd4b4ff",
   "metadata": {},
   "outputs": [],
   "source": [
    "arr1 = np.array([1, 2, 3, 4, 5])"
   ]
  },
  {
   "cell_type": "code",
   "execution_count": 102,
   "id": "66f15785",
   "metadata": {},
   "outputs": [],
   "source": [
    "arr2 = np.array([6, 7, 8, 9, 10])"
   ]
  },
  {
   "cell_type": "code",
   "execution_count": 103,
   "id": "905d9993",
   "metadata": {},
   "outputs": [
    {
     "data": {
      "text/plain": [
       "array([ 7,  9, 11, 13, 15])"
      ]
     },
     "execution_count": 103,
     "metadata": {},
     "output_type": "execute_result"
    }
   ],
   "source": [
    "arr1 + arr2"
   ]
  },
  {
   "cell_type": "code",
   "execution_count": null,
   "id": "20e8c519ed45cbfb",
   "metadata": {},
   "outputs": [],
   "source": [
    "# Cell to demo what the above code does\n"
   ]
  },
  {
   "cell_type": "code",
   "execution_count": 104,
   "id": "7e541102",
   "metadata": {},
   "outputs": [
    {
     "data": {
      "text/plain": [
       "[1, 2, 3, 4, 5, 6, 7, 8, 9, 10]"
      ]
     },
     "execution_count": 104,
     "metadata": {},
     "output_type": "execute_result"
    }
   ],
   "source": [
    "[1, 2, 3, 4, 5] + [6, 7, 8, 9, 10]"
   ]
  },
  {
   "cell_type": "code",
   "execution_count": null,
   "id": "933e6aed",
   "metadata": {},
   "outputs": [],
   "source": []
  },
  {
   "cell_type": "code",
   "execution_count": null,
   "id": "f82851de",
   "metadata": {},
   "outputs": [],
   "source": []
  },
  {
   "cell_type": "code",
   "execution_count": null,
   "id": "4df1a91e",
   "metadata": {},
   "outputs": [],
   "source": []
  },
  {
   "cell_type": "code",
   "execution_count": null,
   "id": "58f70b99",
   "metadata": {},
   "outputs": [],
   "source": [
    "# Add more code cells to keep a record of the demos\n"
   ]
  },
  {
   "cell_type": "code",
   "execution_count": 111,
   "id": "33a53c98",
   "metadata": {
    "ExecuteTime": {
     "end_time": "2024-05-15T21:54:31.981069Z",
     "start_time": "2024-05-15T21:54:30.771611Z"
    }
   },
   "outputs": [
    {
     "name": "stdout",
     "output_type": "stream",
     "text": [
      "0.667217\n"
     ]
    }
   ],
   "source": [
    "# Monte Hall Simulation Code -- not the only way to code this, but it's what Prof. Schwartz came up with...\n",
    "\n",
    "import numpy as np\n",
    "all_door_options = (1,2,3)  # tuple\n",
    "my_door_choice = 1  # 1,2,3\n",
    "i_won = 0 # counter for the number of times we won\n",
    "reps = 1000000\n",
    "for i in range(reps):\n",
    "    secret_winning_door = np.random.choice(all_door_options)\n",
    "    all_door_options_list = list(all_door_options)\n",
    "    # take the secret_winning_door, so we don't show it as a \"goat\" losing door\n",
    "    all_door_options_list.remove(secret_winning_door)\n",
    "    try:\n",
    "        # if my_door_choice was secret_winning_door then it's already removed\n",
    "        all_door_options_list.remove(my_door_choice)\n",
    "    except:\n",
    "        pass\n",
    "    # show a \"goat\" losing door and remove it\n",
    "    goat_door_reveal = np.random.choice(all_door_options_list)\n",
    "    all_door_options_list.remove(goat_door_reveal)\n",
    "\n",
    "    # put the secret_winning_door back in if it wasn't our choice\n",
    "    # we previously removed it, so it would be shown as a  \"goat\" losing door\n",
    "    if secret_winning_door != my_door_choice:\n",
    "        all_door_options_list.append(secret_winning_door)\n",
    "    # if secret_winning_door was our choice then all that's left in the list is a \"goat\" losing door\n",
    "    # if secret_winning_door wasn't our choice then it's all that will be left in the list\n",
    "\n",
    "    # swap strategy\n",
    "    my_door_choice = all_door_options_list[0]\n",
    "\n",
    "    if my_door_choice == secret_winning_door:\n",
    "        i_won = i_won +  1\n",
    "\n",
    "print(i_won/reps)"
   ]
  },
  {
   "cell_type": "markdown",
   "id": "b1985697e415697b",
   "metadata": {},
   "source": [
    "## 💬 🗣️ Communication [40 minutes]\n",
    "    \n",
    "#### 1. **[5 of the 40 minutes]** Quickly execute the \"rule of 5\" and take 5 minutes to break into 5 new groups of about 5 students and assign the following 5 questions to the 5 groups (and note that this instruction uses fives 5's 😉). Consider allowing students to preferentially select which group they join by calling for volunteers for each prompt, and feel free to use 5 minutes from the next (dicussion) sections doing so if you choose to (since this could be viewed as being a part of the \"discussion\").\n",
    "\n",
    "> *For each of the prompts, groups should consider the pros and cons of two options, the potential impact of a decision to persue one of the options, and how they take into account how uncertainty influences their thinking about the options.<br><br>*\n",
    ">\n",
    "> <details class=\"details-example\"><summary style=\"color:blue\"><u>Further Guidance</u></summary>\n",
    ">     \n",
    "> I asked a ChatBot to create a group activity for you that was related to decision-making under uncertainty using probability, and it produced the following questions. \n",
    "> \n",
    "> *This is a little bit like one of the ideas in the \"Afterward\" of HW01 asking a ChatBot to suggest and explain some other, perhaps less well-known \"unintuitive surprising statistics paradoxes\" (besides the \"World War 2 Plane\" and \"Monte Hall\" problems)*\n",
    ">\n",
    "> </details>\n",
    "\n",
    "1. **Stock Investment Strategy:** Students are investors trying to maximize their returns in the stock market. They must decide between two investment strategies: \"diversified portfolio\" or \"focused portfolio.\" Each strategy has different probabilities of success based on market conditions.<br><br>\n",
    "    \n",
    "    1. Diversified Portfolio: Spread investments across multiple industries.\n",
    "    2. Focused Portfolio: Concentrate investments in a few high-potential stocks.<br><br>\n",
    "        \n",
    "2. **Healthcare Treatment Decision:** Students are healthcare professionals deciding between two treatment options for a patient's condition. Each treatment has different success rates and potential side effects.<br><br>\n",
    "    \n",
    "    1. Treatment A: High success rate but moderate side effects.\n",
    "    2. Treatment B: Lower success rate but minimal side effects.<br><br>\n",
    "        \n",
    "3. **Sports Team Strategy:** Students are coaches of a sports team planning their game strategy. They must decide between two tactics: \"offensive strategy\" or \"defensive strategy.\" Each strategy has different probabilities of winning based on the opponent's strengths and weaknesses.<br><br>\n",
    "    \n",
    "    1. Offensive Strategy: Focus on scoring goals/points aggressively.\n",
    "    2. Defensive Strategy: Prioritize defense to prevent the opponent from scoring.<br><br>\n",
    "        \n",
    "4. **Career Path Decision:** Students are recent graduates deciding between two career paths: \"corporate job\" or \"entrepreneurship.\" Each path has different probabilities of success and factors to consider, such as job security, income potential, and work-life balance.<br><br>\n",
    "    \n",
    "    1. Corporate Job: Stable income but limited growth opportunities.\n",
    "    2. Entrepreneurship: Higher potential for success but greater risk and uncertainty.<br><br>\n",
    "        \n",
    "5. **Environmental Conservation Strategy:** Students are environmental activists advocating for conservation efforts in a wildlife reserve. They must decide between two conservation strategies: \"habitat preservation\" or \"species reintroduction.\" Each strategy has different probabilities of achieving long-term sustainability for the ecosystem.<br><br>\n",
    "    \n",
    "    1. Habitat Preservation: Protect existing habitats from human encroachment.\n",
    "    2. Species Reintroduction: Reintroduce endangered species to restore ecological balance.\n",
    "\n",
    "\n",
    "#### 2. **[15 to 20 of the 40 minutes]** Each group plans and prepares a brief (approximately 3 minute) summary (a) introducing their problem context and (b) outlining their decision and the rationale behind it. The group presentations should address\n",
    "\n",
    "1. the expected outcomes of their decision\n",
    "2. the risks involved\n",
    "3. and why they believe their choice is the best in light of their characterization of the degree uncertainty present in their context \n",
    "\n",
    "#### 3. **[15 to 20 of the 40 minutes]** Each group gives their (approximately 3 minute) planned presentation. If time permits, engaging in some (students or TA) Q&A seeking clarification or challenging group decisions would be ideal.\n",
    "\n",
    "Groups who manage to plan a presentation where multiple group members actively part of the presentation should be awarded \"gold stars\", figuratively, of course, since actualy gold, or stars, of gold star stickers are unfortunately momentarily in short supply"
   ]
  }
 ],
 "metadata": {
  "kernelspec": {
   "display_name": "Python 3 (ipykernel)",
   "language": "python",
   "name": "python3"
  },
  "language_info": {
   "codemirror_mode": {
    "name": "ipython",
    "version": 3
   },
   "file_extension": ".py",
   "mimetype": "text/x-python",
   "name": "python",
   "nbconvert_exporter": "python",
   "pygments_lexer": "ipython3",
   "version": "3.11.6"
  }
 },
 "nbformat": 4,
 "nbformat_minor": 5
}
