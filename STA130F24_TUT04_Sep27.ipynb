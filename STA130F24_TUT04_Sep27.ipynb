{
 "cells": [
  {
   "cell_type": "markdown",
   "metadata": {
    "slideshow": {
     "slide_type": "slide"
    }
   },
   "source": [
    "## STA130 TUT 04 (Sep27)<br><br>📊 🎯 <u>Confidence Intervals / Statistical Inference</u><br>&nbsp;&nbsp;&nbsp;&nbsp;&nbsp;&nbsp;&nbsp;&nbsp;&nbsp;(using Sampling Distributions)"
   ]
  },
  {
   "cell_type": "markdown",
   "metadata": {
    "id": "aW9NVz2Np6Ei",
    "slideshow": {
     "slide_type": "slide"
    }
   },
   "source": [
    "### 💬 🗣️ Communication Activity \\#1 [25 Min]\n",
    "\n",
    "Return to your *four groups* from the \"Tutorial Communication Acivity\" from previous week, and spend *five minutes* to decide which students analysis your group would like to present to everyone subject to the restriction that *no two groups may present the same data set*. Each group will then have *five minutes* (strictly enforced) to present their data analysis to the everyone, by either\n",
    "\n",
    "- looking at figures in a notebook on a github repo\n",
    "- or sharing the notebook with the analysis with the TA and using the TAs computer to present to the class<br>\n",
    "\n",
    "<details class=\"details-example\"><summary style=\"color:blue\"><u>Instructions from the Previous TUT/HW Reminder</u></summary>\n",
    "\n",
    "#### Week 03 TUT Communication Activity\n",
    "Break into 4 groups of 6 students (or as many as possible, evenly distributed across groups) and prepare a speech describing a generic strategy or general sequence of steps you would take to understand a data set\n",
    "\n",
    "#### Last Week's HW Question \"6\"\n",
    "\n",
    "Go find an interesting dataset and use summary statistics and visualizations to understand and demonstate some interesting aspects of the data\n",
    "\n",
    "1. Your approach should likely follow what was suggested for the **Week 03 TUT Communication Activity**\n",
    "2. In the **Week 03 TUT Communication Activity from TUT** you will be put in groups and determine which group members dataset introduction will be presented by the group\n",
    "    \n",
    "</details>\n",
    "\n"
   ]
  },
  {
   "cell_type": "markdown",
   "metadata": {
    "slideshow": {
     "slide_type": "slide"
    }
   },
   "source": [
    "### ♻️ 📚 Review / Questions [20 Min]\n",
    "\n",
    "#### 1. *[15 of the 20 minutes]* Follow up questions and clarifications regarding the content of Sep20 TUT and Sep23 LEC covering Data Visualization and Populations and Sampling\n",
    "\n",
    "> 1. Everyone should be clear about what a **histogram** is what it describes about the data. \n",
    "> \n",
    "> 2. Do you remember that **box plots** are simpler than **histograms** and likely preferable for the purposes of comparision; except, **box plots** don't explicitly indicate sample size and modality?\n",
    ">\n",
    "> 3. What is the difference between a **KDE** or **violin** plot, a **population**, and a **distribution**?\n",
    ">\n",
    "> 4. Everyone should be clear about how to sample from a **distribution** and make a **histogram** (or **box plot** or **violin** plot).\n",
    "\n",
    "\n",
    "#### 2. *[5 of the 20 minutes]* Brifely remind the students of these figures from last weeks LEC (recreated below) which will be the focus of the subsequent TUT **Demo** and answer the following questions found in-line below\n",
    "\n",
    "> For which countries do you think we can most accurately <br>estimate the average 'points' score of cups of coffee?\n",
    ">\n",
    "> - *Only remind students about these data and figures* (and to reinforce the **Review / Questions**)*; and, do not explain this code as students as they can later figure this out later by prompting a ChatBot with,* \"Can you explain to me what is happening in this code? < pasted code >\""
   ]
  },
  {
   "cell_type": "code",
   "execution_count": null,
   "metadata": {
    "slideshow": {
     "slide_type": "subslide"
    }
   },
   "outputs": [],
   "source": [
    "#https://stackoverflow.com/questions/52771328/plotly-chart-not-showing-in-jupyter-notebook\n",
    "import plotly.offline as pyo\n",
    "# Set notebook mode to work in offline\n",
    "pyo.init_notebook_mode()"
   ]
  },
  {
   "cell_type": "code",
   "execution_count": null,
   "metadata": {
    "slideshow": {
     "slide_type": "subslide"
    }
   },
   "outputs": [],
   "source": [
    "# just run to get to the plot -- we are not interested in reviewing this code now\n",
    "\n",
    "import pandas as pd\n",
    "import plotly.express as px\n",
    "\n",
    "# load / reset df\n",
    "df = pd.read_csv(\"https://raw.githubusercontent.com/rfordatascience/tidytuesday/2e9bd5a67e09b14d01f616b00f7f7e0931515d24/data/2020/2020-07-07/coffee_ratings.csv\")\n",
    "df = df.rename(columns={'country_of_origin': 'origin', 'total_cup_points': 'points'})\n",
    "\n",
    "df = df[df['points']>65] # ignore some very low scores\n",
    "df = df[~df['origin'].isna()] # remove rows with unknown origin\n",
    "\n",
    "df['origin'] = df['origin'].str.replace(\"?\",\"'\") # fix character encoding issue\n",
    "df['origin_original'] = df.origin.copy().values # save original (corrected) names"
   ]
  },
  {
   "cell_type": "code",
   "execution_count": null,
   "metadata": {
    "slideshow": {
     "slide_type": "subslide"
    }
   },
   "outputs": [],
   "source": [
    "# just run to get to the plot -- we are not interested in reviewing this code now\n",
    "\n",
    "# add line breaks to titles\n",
    "df.origin = df.origin_original.str.replace(\" (\", \"<br>(\").replace(\", \", \",<br>\")\n",
    "\n",
    "# create a histogram \n",
    "fig = px.histogram(df, x='points', facet_col='origin', \n",
    "                   facet_col_wrap=6, height=1000, facet_row_spacing=0.05)\n",
    "\n",
    "# shorten titles\n",
    "fig.for_each_annotation(lambda a: a.update(text=a.text.replace(\"origin=\", \"\")))\n",
    "fig.show() # USE `fig.show(renderer=\"png\")` FOR ALL GitHub and MarkUs SUBMISSIONS"
   ]
  },
  {
   "cell_type": "code",
   "execution_count": null,
   "metadata": {
    "slideshow": {
     "slide_type": "subslide"
    }
   },
   "outputs": [],
   "source": [
    "# just run to get to the plot -- we are not interested in reviewing this code now\n",
    "\n",
    "# include sample sizes in origin names\n",
    "keys = df.origin_original.value_counts().index.values\n",
    "vals = df.origin_original.value_counts().index.values + \" (n=\"+df.origin_original.value_counts().values.astype(str)+\")\"\n",
    "df.origin = df.origin_original.map({k:v for k,v in zip(keys,vals)})\n",
    "\n",
    "df.origin = df.origin.str.replace(\"<br>\", \" \") # remove line breaks in origin names\n",
    "\n",
    "# create ordered box plots with swarm                              # to turn off the data swarm\n",
    "fig = px.box(df, x='points', y=\"origin\", points=\"all\", height=750, # remove `points=\"all\",`\n",
    "             title=\"EXPLICITLY adding sample size (and even the data swarm to really emphasize it...)\")\n",
    "fig.update_yaxes(categoryarray=df.groupby(\"origin\")['points'].mean().sort_values().index)\n",
    "fig.show() # USE `fig.show(renderer=\"png\")` FOR ALL GitHub and MarkUs SUBMISSIONS"
   ]
  },
  {
   "cell_type": "code",
   "execution_count": null,
   "metadata": {
    "slideshow": {
     "slide_type": "subslide"
    }
   },
   "outputs": [],
   "source": [
    "# just run to get to the plot -- we are not interested in reviewing this code now\n",
    "\n",
    "import plotly.graph_objects as go\n",
    "fig = go.Figure()\n",
    "\n",
    "# https://plotly.com/python/violin/#split-violin-plot\n",
    "fig.add_trace(go.Violin(x=df.groupby('origin').filter(lambda x: len(x) > 1).origin, \n",
    "                        y=df.points,side='positive', width=5))#, points='all'\n",
    "# google \"pandas remove groups with size 1\"\n",
    "# https://stackoverflow.com/questions/54584286/pandas-groupby-then-drop-groups-below-specified-size\n",
    "\n",
    "fig.show() # USE `fig.show(renderer=\"png\")` FOR ALL GitHub and MarkUs SUBMISSIONS"
   ]
  },
  {
   "cell_type": "markdown",
   "metadata": {},
   "source": [
    "#### For which countries do you think we can most accurately <br>estimate the average 'points' score of cups of coffee?"
   ]
  },
  {
   "cell_type": "code",
   "execution_count": null,
   "metadata": {
    "slideshow": {
     "slide_type": "subslide"
    }
   },
   "outputs": [],
   "source": [
    "# just run to get to the plot -- we are not interested in reviewing this code now\n",
    "\n",
    "# add line breaks to titles\n",
    "df.origin = df.origin.str.replace(\" (\", \"<br>(\").replace(\", \", \",<br>\")\n",
    "\n",
    "# build a histogram (but do not yet show it)\n",
    "fig = px.histogram(df, x='points', facet_col='origin', \n",
    "                   facet_col_wrap=6, height=1000, facet_row_spacing=0.05,\n",
    "                   title='''<br>For which countries do you think we can most accurately\n",
    "                            <br>estimate the average 'points' score of cups of coffee?''')"
   ]
  },
  {
   "cell_type": "code",
   "execution_count": null,
   "metadata": {},
   "outputs": [],
   "source": [
    "# just run to get to the plot -- we are not interested in reviewing this code now\n",
    "\n",
    "# shorten titles\n",
    "fig.for_each_annotation(lambda a: a.update(text=a.text.replace(\"origin=\", \"\"))) \n",
    "fig.update_layout(title_automargin=True) # fix overall title\n",
    "\n",
    "# indicate the sampe averages in the histograms \n",
    "for i,average in enumerate(dict(df.groupby('origin').points.mean()[df.origin.unique()]).values()):\n",
    "    fig.add_vline(x=average, line_dash=\"dot\", row=6-int(i/6), col=(1+i)%6)\n",
    "fig.show() # USE `fig.show(renderer=\"png\")` FOR ALL GitHub and MarkUs SUBMISSIONS"
   ]
  },
  {
   "cell_type": "markdown",
   "metadata": {},
   "source": [
    "#### For which countries do you think we can most accurately <br>estimate the average 'points' score of cups of coffee?"
   ]
  },
  {
   "cell_type": "markdown",
   "metadata": {
    "id": "q1y4dx7iqfFt",
    "slideshow": {
     "slide_type": "slide"
    }
   },
   "source": [
    "### 🚧 🏗️ Demo [30 minutes]\n",
    "\n",
    "Estimating Averages?\n",
    "\n",
    "- You'll want to know the behavior of the variability of averages for the sample size...\n",
    "\n",
    "#### 1. For which countries do you think we can most accurately estimate the average \"points\" score of cups of coffee?\n",
    "    \n",
    "- **That is, the average of ALL cups of coffee from a given country... not just those in the sample**\n",
    "    - The sample means have been added to the histograms above\n",
    "    - But the answer to this question is really answered by the question...\n",
    "\n",
    "#### 2. How does the variability/uncertainty of means of simulated samples change as a function of sample size?\n",
    "\n",
    "> The code below demonstrates repeatedly drawing samples in order to simulate a lot of means to see what their variability/uncertainty is\n",
    "\n",
    "**Population (distribution) $\\rightarrow$ (independent) Sample $\\rightarrow$ Mean (statistic)**"
   ]
  },
  {
   "cell_type": "code",
   "execution_count": null,
   "metadata": {
    "scrolled": false,
    "slideshow": {
     "slide_type": "subslide"
    }
   },
   "outputs": [],
   "source": [
    "from scipy import stats\n",
    "import numpy as np\n",
    "\n",
    "# Population\n",
    "population_parameter_mu_μ = 0\n",
    "population_parameter_sigma_σ = 1\n",
    "normal_distribution = stats.norm(loc=population_parameter_mu_μ, \n",
    "                                 scale=population_parameter_sigma_σ) \n",
    "# Sample\n",
    "n = 100 # adjust and experiment with this\n",
    "# np.random.seed(130)\n",
    "x = normal_distribution.rvs(size=n) # \"x\" is the sample of size \"n\"\n",
    "# print(x) # uncomment this if you also want to see the sample \n",
    "\n",
    "# Mean\n",
    "print(\"The sample mean for the current sample is\", x.mean()) \n",
    "# the sample mean \"x-bar\" is a (sample) \"statistic\" (not a \"parameter\")\n",
    "# \"x-bar\" is the \"average\" of the numbers in a sample"
   ]
  },
  {
   "cell_type": "code",
   "execution_count": null,
   "metadata": {},
   "outputs": [],
   "source": [
    "# This code visualizes the population being sampled from (as a red line),\n",
    "# a sample from this population (as a histogram), and the sample mean\n",
    "\n",
    "# create another sample\n",
    "n = 100 # adjust and experiment with this\n",
    "# np.random.seed(130)\n",
    "x = normal_distribution.rvs(size=n) # \"x\" is the sample of size \"n\"\n",
    "\n",
    "# create a histogram of the sample and annotate the sample mean\n",
    "fig = px.histogram(pd.DataFrame({'sampled values': x}), x='sampled values',\n",
    "                   histnorm='probability density') # so the scale matches the pdf below\n",
    "fig.add_vline(x=x.mean(), line_dash=\"dot\", annotation_text='Sample mean '+str(x.mean()))\n",
    "\n",
    "# add population visualization into the figure\n",
    "support = np.linspace(-4,4,100) \n",
    "fig.add_trace(go.Scatter(mode='lines', name='Poulation Model<br>(normal distribution)',\n",
    "                         y=normal_distribution.pdf(support), x=support))\n",
    "                                             # pdf means \"probability density function\"\n",
    "fig.show() # USE `fig.show(renderer=\"png\")` FOR ALL GitHub and MarkUs SUBMISSIONS    "
   ]
  },
  {
   "cell_type": "markdown",
   "metadata": {},
   "source": [
    "#### Repeated Sampling $\\rightarrow$ Distribution of Sample Means \n",
    "\n",
    "- Clarification Question: What's the difference between `number_of_simulations` and the sample size `n`?"
   ]
  },
  {
   "cell_type": "code",
   "execution_count": null,
   "metadata": {
    "slideshow": {
     "slide_type": "subslide"
    }
   },
   "outputs": [],
   "source": [
    "# What is this doing?\n",
    "\n",
    "number_of_simulations = 1000 # adjust and experiment with this\n",
    "simulated_means = np.zeros(number_of_simulations)\n",
    "\n",
    "# np.random.seed(130) # ?\n",
    "n = 100 # adjust and experiment with this\n",
    "for i in range(number_of_simulations):\n",
    "    # np.random.seed(130) # ?\n",
    "    simulated_means[i] = stats.norm(loc=0, scale=1).rvs(size=n).mean()"
   ]
  },
  {
   "cell_type": "code",
   "execution_count": null,
   "metadata": {},
   "outputs": [],
   "source": [
    "# This time the code creates a histogram of example simulations of sample means\n",
    "# and visualizes the theoretical distribution of the sample means (as a red line)\n",
    "    \n",
    "title1 = \"The sampling distribution of the sample mean\"\n",
    "title2 = str(number_of_simulations)+' means from '+str(number_of_simulations)+' simulated samples of size n = '+str(n)\n",
    "fig = px.histogram(pd.DataFrame({title2: simulated_means}), title=title1, x=title2, \n",
    "                   histnorm='probability density')    \n",
    "\n",
    "# add a visualization of \"the sampling distribution of the sample mean\" into the figure\n",
    "support = 4*np.array([-1,1])/np.sqrt(n) # the support code here automatically chooses\n",
    "support = np.linspace(support[0], support[1], 100) # the plotting range for the x-axis\n",
    "legend = 'The \"sampling distribution<br>of the sample mean\" is the<br>theoretical distribution of<br>\"averages\" of sample values'\n",
    "fig.add_trace(go.Scatter(mode='lines', name=legend, x=support, \n",
    "                         y=stats.norm(0,scale=1/np.sqrt(n)).pdf(support)))\n",
    "fig.show() # USE `fig.show(renderer=\"png\")` FOR ALL GitHub and MarkUs SUBMISSIONS"
   ]
  },
  {
   "cell_type": "code",
   "execution_count": null,
   "metadata": {},
   "outputs": [],
   "source": [
    "# Now let's consider sample sizes from the data above...\n",
    "df.origin.unique()"
   ]
  },
  {
   "cell_type": "code",
   "execution_count": null,
   "metadata": {},
   "outputs": [],
   "source": [
    "# And in order to repeatedly simulate samples (means) like the ones we have, let's\n",
    "# FALSELY pretend the population parameters are their corresponding statistics\n",
    "country = 'Mexico<br>(n=236)'\n",
    "\n",
    "PRETEND_population_parameter_mu_μ_is_sample_mean = df[df.origin==country].points.mean()\n",
    "PRETEND_population_parameter_sigma_σ_is_sample_std = df[df.origin==country].points.std()\n",
    "\n",
    "n = (df.origin==country).sum()\n",
    "\n",
    "print(\"PRETENDING that the population mean μ is\", PRETEND_population_parameter_mu_μ_is_sample_mean)\n",
    "print(\"and the population standard deviation σ is\", PRETEND_population_parameter_sigma_σ_is_sample_std)\n",
    "print(\"we can repeatedly draw samples of size\", n, \"and compute their means...\")"
   ]
  },
  {
   "cell_type": "code",
   "execution_count": null,
   "metadata": {
    "slideshow": {
     "slide_type": "subslide"
    }
   },
   "outputs": [],
   "source": [
    "# What is this doing?\n",
    "\n",
    "number_of_simulations = 1000 # adjust and experiment with this\n",
    "simulated_means = np.zeros(number_of_simulations)\n",
    "\n",
    "# np.random.seed(130) # ?\n",
    "for i in range(number_of_simulations):\n",
    "    simulated_means[i] = stats.norm(loc=PRETEND_population_parameter_mu_μ_is_sample_mean,\n",
    "                                    scale=PRETEND_population_parameter_sigma_σ_is_sample_std).rvs(size=n).mean()"
   ]
  },
  {
   "cell_type": "code",
   "execution_count": null,
   "metadata": {},
   "outputs": [],
   "source": [
    "title1 = \"The sampling distribution of the sample mean\"\n",
    "title2 = str(number_of_simulations)+' means from '+str(number_of_simulations)+' simulated samples of size n = '+str(n)\n",
    "title = str(number_of_simulations)+' means from '+str(number_of_simulations)+' simulated samples of size n = '+str(n)\n",
    "fig = px.histogram(pd.DataFrame({title2: simulated_means}), title=title1, x=title2,\n",
    "                   histnorm='probability density')    \n",
    "\n",
    "# support is more complicated this time around, but it is still the same \n",
    "# automatic calculation to determine the plotting range for the x-axis\n",
    "support = PRETEND_population_parameter_mu_μ_is_sample_mean + \\\n",
    "          4*np.array([-1,1])*PRETEND_population_parameter_sigma_σ_is_sample_std/np.sqrt(n)\n",
    "support = np.linspace(support[0], support[1], 100)\n",
    "legend = 'The \"sampling distribution<br>of the sample mean\" is the<br>theoretical distribution of<br>\"averages\" of sample values'\n",
    "fig.add_trace(go.Scatter(mode='lines', name=legend, x=support, \n",
    "                         y=stats.norm(loc=df[df.origin==country].points.mean(),\n",
    "                                      scale=df[df.origin==country].points.std()/np.sqrt(n)).pdf(support)))\n",
    "fig.show() # USE `fig.show(renderer=\"png\")` FOR ALL GitHub and MarkUs SUBMISSIONS    "
   ]
  },
  {
   "cell_type": "markdown",
   "metadata": {},
   "source": [
    "#### *Reminder: the questions were...*\n",
    "\n",
    "1. For which countries do you think we can most accurately estimate the average \"points\" score of cups of coffee?<br>\n",
    "\n",
    "2. How does the variability of means of simulated samples change as a function of sample size?<br>\n",
    "\n",
    "*And what really matters here is the x-axis above...*\n"
   ]
  },
  {
   "cell_type": "markdown",
   "metadata": {
    "id": "2wIwWNZkqCNR",
    "slideshow": {
     "slide_type": "slide"
    }
   },
   "source": [
    "### 📢 👂 Communication Actvity \\#2 [25 minutes] \n",
    "\n",
    "> Break into *five groups* of students, assigning each group to one of the questions below. Groups discuss questions for *5-10 minutes*, and then each group (in order) provides their answer to the class for *3 minutes each*.\n",
    ">\n",
    "> - The last two questions are \"challenge questions\" for adventurous groups who are interested in attempting to push the envelope and extend what they've learned so far into two new versions of this **repeated sampling** exercise.\n",
    ">\n",
    "> - *Because the last two questions are \"challenge questions\" the TA may determine to focus more attention on the first three questions depending on the progress of the TUT in understanding and presenting the key ideas of these questions.*\n",
    "\n",
    "1. **Question 2** (the last 5 of the 20 minutes) of the **Review / Questions** section of TUT (following the initial 25 minute **Communication Activity #1**) re-introduced the panel of histograms of coffee ratings first seen in the last LEC. The samples were then compared side-by-side using **box plots** and **violin**/**KDE** plots. This is NOT what the **TUT Demo** is doing. Compare and contrast the purpose of the exercise of the **TUT Demo** verses qualitatively comparing samples using box plots.\n",
    "\n",
    "\n",
    "2. In the **TUT Demo** we used two different normal distributions. Compare and contrast the two different examples and explain the purpose of having two different examples.\n",
    "\n",
    "\n",
    "3. How does the variability/uncertainty of means of simulated samples change as a function of sample size? Can you explain why this is in an intuitive way? Feel free to use a ChatBot (or internet or course [wiki-textbook](https://github.com/pointOfive/stat130chat130/wiki) search) to help answer this question if you like (and share what you found to be effective in doing so!). *Remember to focus a ChatBot on smaller subsets of your bigger questions to build up to the full understanding systematically if needed! Following up overly verbose initial chat responses by asking for a shorter and more succinct or more specific responses will likely lead to good results.*\n",
    "\n",
    "\n",
    "4. In the **TUT Demo** we sampled from a symmetric `normal` population, but this is replaced with a skewed `gamma` population in the first set of code below. Run the code related to the skewed `gamma` population with different sample sizes and discuss how the behavior  exhibited by the two (symmetric and skewed) examples is similar and/or different. Feel free to use a ChatBot (or internet or course [wiki-textbook](https://github.com/pointOfive/stat130chat130/wiki) search) to help understand what the code is doing if you need to (and share what you found to be effective in doing so, and in understanding the behavior at different sample sizes!). *Remember to focus a ChatBot on smaller subsets of your bigger questions to build up to the full understanding systematically if needed! Following up overly verbose initial chat responses by asking for a shorter and more succinct or more specific responses will likely lead to good results.*\n",
    "\n",
    "\n",
    "5. In the **TUT Demo** we sampled from a symmetric `normal` population, but the final set of code below introduces creating samples using **bootstrapping**. Explain what the process of bootstrapping given below is, contrasting it with the illustrations of the **TUT Demo** sampling from `normal` (or `gamma`) populations. Feel free to use a ChatBot (or internet or course [wiki-textbook](https://github.com/pointOfive/stat130chat130/wiki) search) to help understand what the code is doing if you need to and help answer this question (and share what you found to be effective in doing so!). *Remember to focus a ChatBot on smaller subsets of your bigger questions to build up to the full understanding systematically if needed! Following up overly verbose initial chat responses by asking for a shorter and more succinct or more specific responses will likely lead to good results.*\n",
    "\n",
    "\n",
    "<details class=\"details-example\"><summary style=\"color:blue\"><u>Further Guidance</u></summary>\n",
    "    \n",
    "- Sharing the relevant code content with the ChatBot is probably necessary in order to provide the necessary context to allow the ChatBot to appropriately address your inquiry<br><br>\n",
    "    \n",
    "- The standard error (SE) of the mean (SEM) and confidence intervals may be introduced by the response of the ChatBot (e.g., like [this](https://github.com/pointOfive/stat130chat130/blob/main/CHATLOG/wk4/COP/00003_creative_contrastbootstrappingV2.md)), but they are beyond the scope of this question [and will be addressed in the HW and in LEC] and should not be a part of your answer: we are interested on specifically in understanding what the process of bootstrapping is \n",
    "\n",
    "</details>"
   ]
  },
  {
   "cell_type": "markdown",
   "metadata": {},
   "source": [
    "### Potential \"Challenge Questions\" Material for Two Advanced Groups...\n",
    "\n",
    "The code introduced above demonstrated repeatedly drawing samples in order to simulate a lot of means to see what their variability/uncertainty was. The code below does it again in but in two different ways.\n",
    "\n",
    "1. The code above was based on (symmetric) `normal` distributions\n",
    "2. The first version of the code below is based on (skewed) `gamma` distributions \n",
    "3. The final version of the code uses (other empirical shapes) via **bootstrapping**\n",
    "\n",
    "> **If you need help understanding ANY of the code used in this notebook, a ChatBot is going to be able to do a very good job explaining it to you.**\n",
    "\n",
    "<details class=\"details-example\"><summary style=\"color:blue\"><u>Further Guidance</u></summary>\n",
    "\n",
    "> These examples explore the variability/uncertainty of sample means when sampling from populations that are symmetric (`normal`), skewed (`gamma`), or having other empirical shapes (**bootstrapping**)\n",
    ">\n",
    "> - A more advanced treatment of this topic would address the *Central Limit Theorem (CLT)* or the *Law of Large Numbers (LLN)*, but these are beyond the scope of STA130; *instead, we are curious about the role of the sample size in this context, and whether or not the nature of the population (symmetric versus skewed versus using bootstrapping) affects the general behaviour we observe*\n",
    ">\n",
    "> *The point of these examples is to understand the simulation the code allows you to experiment with. Understanding all aspects of the code here more fully can be done at a later time (e.g., with a ChatBot interactions like [this](https://github.com/pointOfive/stat130chat130/blob/main/CHATLOG/wk4/GPT/SLS/00001_gpt3p5_LawOfLargeNumbers_demo.md))*.\n",
    "\n",
    "</details>"
   ]
  },
  {
   "cell_type": "markdown",
   "metadata": {},
   "source": [
    "### (skewed) `gamma` distributions\n",
    "\n",
    "#### If we sample from a `gamma` population rather than a `normal` population, does skewness seem to affect the behavior we're seeing?"
   ]
  },
  {
   "cell_type": "code",
   "execution_count": null,
   "metadata": {},
   "outputs": [],
   "source": [
    "# population\n",
    "pop_parameter_alpha_α = 2\n",
    "pop_parameter_theta_θ = 4\n",
    "gamma_distribution = stats.gamma(a=pop_parameter_alpha_α, scale=pop_parameter_theta_θ)\n",
    "\n",
    "# sample\n",
    "n = 100 # adjust and experiment with this\n",
    "# np.random.seed(130)\n",
    "x = gamma_distribution.rvs(size=n) # \"x\" is a sample\n",
    "# print(x)\n",
    "\n",
    "# mean\n",
    "print(\"The sample mean for the current sample is\", x.mean()) \n",
    "# the sample mean \"x-bar\" is a (sample) \"statistic\" (not a \"parameter\")\n",
    "# \"x-bar\" is the \"average\" of the numbers in a sample"
   ]
  },
  {
   "cell_type": "code",
   "execution_count": null,
   "metadata": {
    "slideshow": {
     "slide_type": "subslide"
    }
   },
   "outputs": [],
   "source": [
    "n = 100 # adjust and experiment with this\n",
    "# np.random.seed(130)\n",
    "x = gamma_distribution.rvs(size=n) \n",
    "\n",
    "fig = px.histogram(pd.DataFrame({'sampled values': x}), x='sampled values',\n",
    "                   histnorm='probability density') # so the scale matches the pdf below\n",
    "fig.add_vline(x=x.mean(), line_dash=\"dot\", annotation_text='Sample mean '+str(x.mean()))\n",
    "\n",
    "support = np.linspace(0,50,100)\n",
    "fig.add_trace(go.Scatter(x=support, y=gamma_distribution.pdf(support), \n",
    "                         mode='lines', name='Poulation Model<br>(gamma distribution)'))\n",
    "fig.show() # USE `fig.show(renderer=\"png\")` FOR ALL GitHub and MarkUs SUBMISSIONS    "
   ]
  },
  {
   "cell_type": "code",
   "execution_count": null,
   "metadata": {},
   "outputs": [],
   "source": [
    "# what is this doing?\n",
    "\n",
    "number_of_simulations = 1000 # adjust and experiment with this\n",
    "simulated_means = np.zeros(number_of_simulations)\n",
    "\n",
    "# np.random.seed(130) # ?\n",
    "n = 100 # adjust and experiment with this\n",
    "\n",
    "for i in range(number_of_simulations):\n",
    "    # np.random.seed(130) # ?\n",
    "    simulated_means[i] = gamma_distribution.rvs(size=n).mean()"
   ]
  },
  {
   "cell_type": "code",
   "execution_count": null,
   "metadata": {
    "slideshow": {
     "slide_type": "subslide"
    }
   },
   "outputs": [],
   "source": [
    "hint = '<br>At at small sample sizes, the \"shape\" of the means reflext the population skew'\n",
    "hint += '<br>showing that the \"theoretical\" expectation is an approximation that can be \"off\"'\n",
    "title1 = \"The sampling distribution of the sample mean...\"+hint\n",
    "title2 = str(number_of_simulations)+' means from '+str(number_of_simulations)+' simulated samples of size n = '+str(n)\n",
    "fig = px.histogram(pd.DataFrame({title2: simulated_means}), title=title1, x=title2,\n",
    "                   histnorm='probability density')    \n",
    "\n",
    "support = gamma_distribution.mean() + 4*np.array([-1,1])*gamma_distribution.std()/np.sqrt(n)\n",
    "support = np.linspace(support[0], support[1], 100)\n",
    "legend = 'The \"sampling distribution<br>of the sample mean\" is the<br>theoretical distribution of<br>\"averages\" of sample values'\n",
    "fig.add_trace(go.Scatter(mode='lines', name=legend, x=support, \n",
    "                         y=stats.norm(loc=gamma_distribution.mean(),\n",
    "                                      scale=gamma_distribution.std()/np.sqrt(n)).pdf(support)))\n",
    "fig.show() # USE `fig.show(renderer=\"png\")` FOR ALL GitHub and MarkUs SUBMISSIONS    "
   ]
  },
  {
   "cell_type": "markdown",
   "metadata": {},
   "source": [
    "### (other empirical shapes) when using *bootstrapping*\n",
    "\n",
    "##### Does the behavior we're seeing persist if we \"*pretend the sample is the population*\"?\n"
   ]
  },
  {
   "cell_type": "markdown",
   "metadata": {
    "id": "OsY7SGTsqIIv",
    "slideshow": {
     "slide_type": "subslide"
    }
   },
   "source": [
    "##### Bootstrapping: pretending a sample is the population while keep the same sample size\n",
    "\n",
    "When bootstrapping...\n",
    "1. Why `replace=False`?\n",
    "2. Why is `n_` the same as the original sample size `n`?\n",
    "\n",
    "*Hint: why are we interested in understanding the variability of sample means at the sample size of the original sample...*\n"
   ]
  },
  {
   "cell_type": "code",
   "execution_count": null,
   "metadata": {
    "slideshow": {
     "slide_type": "subslide"
    }
   },
   "outputs": [],
   "source": [
    "keep = (df.origin_original=='Guatemala') | (df.origin_original=='Mexico')\n",
    "fig = px.histogram(df[keep], x='points', facet_col='origin', facet_col_wrap=2, height=300)\n",
    "fig.show() # USE `fig.show(renderer=\"png\")` FOR ALL GitHub and MarkUs SUBMISSIONS    "
   ]
  },
  {
   "cell_type": "code",
   "execution_count": null,
   "metadata": {
    "scrolled": false,
    "slideshow": {
     "slide_type": "subslide"
    }
   },
   "outputs": [],
   "source": [
    "country = 'Mexico<br>(n=236)' \n",
    "\n",
    "# bootstrapping is when `replace=True` and `n` is the original sample size\n",
    "# and we do this over and over to see the behavior of sample statistics\n",
    "n_ = (df.origin==country).sum() # This is the correct choice for bootstrapping, but why?\n",
    "replace_ = True # This is the correct choice for bootstrapping, but why?\n",
    "\n",
    "# We don't have a \"poulation\" any more... only the (original) \"Sample\"\n",
    "x = df[df.origin==country].sample(n=n_, replace=replace_).points\n",
    "# print(x)\n",
    "print(\"The bootstrap sample mean for the current bootstrapped sample is\", x.mean()) "
   ]
  },
  {
   "cell_type": "code",
   "execution_count": null,
   "metadata": {},
   "outputs": [],
   "source": [
    "# what is this doing?\n",
    "\n",
    "# np.random.seed(130) # ?\n",
    "x = df[df.origin==country].sample(n=n_, replace=replace_).points\n",
    "\n",
    "dat = pd.DataFrame({'sample values': np.r_[df[df.origin==country].points.values, x],\n",
    "                    'sample': np.r_[['Orginal Sample']*(df.origin==country).sum(),\n",
    "                                    ['Bootstrap Sample']*n_]})             \n",
    "\n",
    "fig = px.histogram(dat, x=\"sample values\", color=\"sample\", barmode=\"overlay\")\n",
    "fig.add_vline(x=x.mean(), line_dash=\"dot\", annotation_text='Bootstrapped sample mean<br>'+str(x.mean()))\n",
    "fig.show() # USE `fig.show(renderer=\"png\")` FOR ALL GitHub and MarkUs SUBMISSIONS    "
   ]
  },
  {
   "cell_type": "markdown",
   "metadata": {
    "slideshow": {
     "slide_type": "subslide"
    }
   },
   "source": [
    "#### If \"n\" is not the original sample size this is NOT BOOTSTRAPPING... <br>in this case it's ONLY pretending the sample is the population...\n",
    "- If you don't set \"n\" to be the original sample size, you can still use this to demonstrate sampling from a population that has the \"shape\" as the sample"
   ]
  },
  {
   "cell_type": "code",
   "execution_count": null,
   "metadata": {},
   "outputs": [],
   "source": [
    "# what is this doing?\n",
    "\n",
    "number_of_simulations = 1000 # adjust and experiment with this\n",
    "simulated_means = np.zeros(number_of_simulations)\n",
    "\n",
    "# np.random.seed(130) # ?\n",
    "n_ = 100 # adjust and experiment with this # 236 # \n",
    "# for bootstrapping it should be (df.origin==country).sum()\n",
    "# if it's not, it's not bootstrapping... it's something else...\n",
    "# ...not sure what it would then be called... \n",
    "\n",
    "replace_ = True # ? ... what would happen if the bootstrap sample size n_ \n",
    "# was the same size as the origina sample size n, and this was `False`?\n",
    "\n",
    "for i in range(number_of_simulations):\n",
    "    simulated_means[i] = df[df.origin==country].sample(n=n_, replace=replace_).points.mean()"
   ]
  },
  {
   "cell_type": "code",
   "execution_count": null,
   "metadata": {
    "slideshow": {
     "slide_type": "subslide"
    }
   },
   "outputs": [],
   "source": [
    "title1 = \"The BOOTSTRAPPED sampling distribution of the sample mean\"\n",
    "title2 = str(number_of_simulations)+' means from '+str(number_of_simulations)+' simulated samples of size n = '+str(n_)\n",
    "fig = px.histogram(pd.DataFrame({title2: simulated_means}), title=title1, x=title2,\n",
    "                   histnorm='probability density')    \n",
    "\n",
    "support = PRETEND_population_parameter_mu_μ_is_sample_mean + \\\n",
    "          4*np.array([-1,1])*PRETEND_population_parameter_sigma_σ_is_sample_std/np.sqrt(n)\n",
    "support = np.linspace(support[0], support[1], 100)\n",
    "legend = 'The \"sampling distribution<br>of the sample mean\" is the<br>theoretical distribution of<br>\"averages\" of sample values'\n",
    "fig.add_trace(go.Scatter(mode='lines', name=legend, x=support, \n",
    "                         y=stats.norm(loc=df[df.origin==country].points.mean(),\n",
    "                                      scale=df[df.origin==country].points.std()/np.sqrt(n_)).pdf(support)))\n",
    "fig.show() # USE `fig.show(renderer=\"png\")` FOR ALL GitHub and MarkUs SUBMISSIONS    "
   ]
  },
  {
   "cell_type": "markdown",
   "metadata": {
    "slideshow": {
     "slide_type": "subslide"
    }
   },
   "source": [
    "##### The above demonstrates that the behavior we see from bootstrapping (pretending the sample is the population) works just as if sampling from an actual population"
   ]
  }
 ],
 "metadata": {
  "celltoolbar": "Slideshow",
  "colab": {
   "provenance": []
  },
  "kernelspec": {
   "display_name": "Python 3 (ipykernel)",
   "language": "python",
   "name": "python3"
  },
  "language_info": {
   "codemirror_mode": {
    "name": "ipython",
    "version": 3
   },
   "file_extension": ".py",
   "mimetype": "text/x-python",
   "name": "python",
   "nbconvert_exporter": "python",
   "pygments_lexer": "ipython3",
   "version": "3.11.4"
  }
 },
 "nbformat": 4,
 "nbformat_minor": 1
}
